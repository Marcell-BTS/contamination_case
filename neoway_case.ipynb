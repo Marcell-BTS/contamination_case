{
 "cells": [
  {
   "cell_type": "code",
   "execution_count": 61,
   "metadata": {
    "ExecuteTime": {
     "end_time": "2020-10-21T15:47:01.032923Z",
     "start_time": "2020-10-21T15:47:01.026925Z"
    }
   },
   "outputs": [],
   "source": [
    "import pandas as pd\n",
    "import numpy as np\n",
    "import matplotlib.pyplot as plt\n",
    "import seaborn as sns\n",
    "import warnings\n",
    "warnings.filterwarnings('ignore')\n",
    "\n",
    "from scipy import stats\n",
    "from scipy.stats import pearsonr, spearmanr\n",
    "\n",
    "from sklearn.linear_model import Ridge, Lasso, LinearRegression\n",
    "from sklearn.model_selection import train_test_split, cross_val_score, GridSearchCV\n",
    "from sklearn.preprocessing import StandardScaler\n",
    "from sklearn.metrics import mean_squared_error, make_scorer\n",
    "\n",
    "import utils"
   ]
  },
  {
   "cell_type": "code",
   "execution_count": 62,
   "metadata": {
    "ExecuteTime": {
     "end_time": "2020-10-21T15:47:02.348920Z",
     "start_time": "2020-10-21T15:47:01.035926Z"
    }
   },
   "outputs": [],
   "source": [
    "connections = pd.read_csv('./data/conexoes_espec.csv', sep=';')\n",
    "individual = pd.read_csv('./data/individuos_espec.csv', sep=';')\n",
    "\n",
    "df = connections.copy()\n",
    "df = df[~df['prob_V1_V2'].isnull()]"
   ]
  },
  {
   "cell_type": "code",
   "execution_count": 63,
   "metadata": {
    "ExecuteTime": {
     "end_time": "2020-10-21T15:47:02.354928Z",
     "start_time": "2020-10-21T15:47:02.350923Z"
    }
   },
   "outputs": [],
   "source": [
    "# Missing Values"
   ]
  },
  {
   "cell_type": "code",
   "execution_count": 64,
   "metadata": {
    "ExecuteTime": {
     "end_time": "2020-10-21T15:47:02.538925Z",
     "start_time": "2020-10-21T15:47:02.357924Z"
    }
   },
   "outputs": [
    {
     "data": {
      "text/plain": [
       "name                              0\n",
       "idade                         95937\n",
       "estado_civil                  50073\n",
       "qt_filhos                     28867\n",
       "estuda                        40130\n",
       "trabalha                       6353\n",
       "pratica_esportes             149124\n",
       "transporte_mais_utilizado     43033\n",
       "IMC                          113870\n",
       "dtype: int64"
      ]
     },
     "execution_count": 64,
     "metadata": {},
     "output_type": "execute_result"
    }
   ],
   "source": [
    "individual.isna().sum()"
   ]
  },
  {
   "cell_type": "code",
   "execution_count": 65,
   "metadata": {
    "ExecuteTime": {
     "end_time": "2020-10-21T15:47:02.868924Z",
     "start_time": "2020-10-21T15:47:02.540928Z"
    },
    "scrolled": false
   },
   "outputs": [
    {
     "data": {
      "text/plain": [
       "Text(0.5, 1.0, '% of Missings por Variavel')"
      ]
     },
     "execution_count": 65,
     "metadata": {},
     "output_type": "execute_result"
    },
    {
     "data": {
      "image/png": "[encoded data removed]",
      "text/plain": [
       "<Figure size 1440x720 with 1 Axes>"
      ]
     },
     "metadata": {
      "needs_background": "light"
     },
     "output_type": "display_data"
    }
   ],
   "source": [
    "prop_missings = (individual.isna().sum().sort_values(ascending = False)/individual.shape[0])\n",
    "f, ax = plt.subplots(figsize=(20,10))\n",
    "plt.xticks(rotation = '90')\n",
    "sns.barplot(x = prop_missings.index, y = prop_missings)\n",
    "plt.xlabel('Variables', fontsize = 15)\n",
    "plt.ylabel('% of Missings', fontsize = 15)\n",
    "plt.title('% of Missings por Variavel', fontsize = 15)"
   ]
  },
  {
   "cell_type": "markdown",
   "metadata": {},
   "source": [
    "Existem muitas categorias dentro de \"qt_filhos\". Cerca de 40% são de pessoas que não tem filhos. Vamos recodar."
   ]
  },
  {
   "cell_type": "code",
   "execution_count": 66,
   "metadata": {
    "ExecuteTime": {
     "end_time": "2020-10-21T15:47:02.892926Z",
     "start_time": "2020-10-21T15:47:02.870933Z"
    }
   },
   "outputs": [
    {
     "data": {
      "text/plain": [
       "0.0    401401\n",
       "1.0    331186\n",
       "2.0    166111\n",
       "3.0     55410\n",
       "4.0     13770\n",
       "5.0      2716\n",
       "6.0       476\n",
       "7.0        53\n",
       "8.0         9\n",
       "9.0         1\n",
       "Name: qt_filhos, dtype: int64"
      ]
     },
     "execution_count": 66,
     "metadata": {},
     "output_type": "execute_result"
    }
   ],
   "source": [
    "individual['qt_filhos'].value_counts()"
   ]
  },
  {
   "cell_type": "markdown",
   "metadata": {},
   "source": [
    "Agora a variável possui três categorias: Se tem filhos, se não tem, e os missings tratados como \"sem_info\"."
   ]
  },
  {
   "cell_type": "code",
   "execution_count": 67,
   "metadata": {
    "ExecuteTime": {
     "end_time": "2020-10-21T15:47:03.312338Z",
     "start_time": "2020-10-21T15:47:02.894924Z"
    }
   },
   "outputs": [],
   "source": [
    "individual['filhos_status'] = np.where(individual['qt_filhos']==0, 'sem_filhos',\n",
    "                               np.where(individual['qt_filhos']>0, 'filhos', 'sem_info_filhos'))\n",
    "\n",
    "individual.drop('qt_filhos', axis=1, inplace=True) "
   ]
  },
  {
   "cell_type": "markdown",
   "metadata": {},
   "source": [
    "\"Transporte\", \"Estado Civil\", \"Trabalha\" e \"Estuda\" são variáveis categóricas binárias. Portanto, podemos trata-las da mesma maneira que a variável filhos acima, para evitarmos perder informação."
   ]
  },
  {
   "cell_type": "code",
   "execution_count": null,
   "metadata": {},
   "outputs": [],
   "source": []
  },
  {
   "cell_type": "code",
   "execution_count": 68,
   "metadata": {
    "ExecuteTime": {
     "end_time": "2020-10-21T15:47:03.318340Z",
     "start_time": "2020-10-21T15:47:03.315342Z"
    }
   },
   "outputs": [],
   "source": [
    "#to_fillna = individual.select_dtypes(include='object').columns\n",
    "\n",
    "#for column in to_fillna:\n",
    "#    individual[column].fillna('sem_info_' + column, inplace=True)"
   ]
  },
  {
   "cell_type": "code",
   "execution_count": 69,
   "metadata": {
    "ExecuteTime": {
     "end_time": "2020-10-21T15:47:03.460001Z",
     "start_time": "2020-10-21T15:47:03.321339Z"
    }
   },
   "outputs": [],
   "source": [
    "#individual['estuda'] = np.where(individual['estuda']==0, 'nao_estuda',\n",
    "#                               np.where(individual['estuda']==1, 'estuda', 'sem_info_estuda'))\n",
    "\n",
    "#individual['trabalha'] = np.where(individual['trabalha']==0, 'nao_trabalha',\n",
    "#                               np.where(individual['trabalha']==1, 'trabalha', 'sem_info_trabalha'))\n",
    "\n",
    "#individual['pratica_esportes'] = np.where(individual['pratica_esportes']==0, 'nao_pratica_esportes',\n",
    "#                               np.where(individual['pratica_esportes']==1, 'pratica_esportes', 'sem_info_pratica_esportes'))"
   ]
  },
  {
   "cell_type": "code",
   "execution_count": 70,
   "metadata": {
    "ExecuteTime": {
     "end_time": "2020-10-21T15:47:03.576257Z",
     "start_time": "2020-10-21T15:47:03.462012Z"
    }
   },
   "outputs": [],
   "source": [
    "# Outliers"
   ]
  },
  {
   "cell_type": "code",
   "execution_count": 71,
   "metadata": {
    "ExecuteTime": {
     "end_time": "2020-10-21T15:47:03.822940Z",
     "start_time": "2020-10-21T15:47:03.578256Z"
    }
   },
   "outputs": [],
   "source": [
    "individual.dropna(subset=['IMC', 'idade'],inplace=True)\n",
    "individual['z_IMC'] = np.abs(stats.zscore(individual['IMC']))\n",
    "individual['z_idade'] = np.abs(stats.zscore(individual['idade']))\n",
    "df['z_prob_V1_V2'] = np.abs(stats.zscore(df['prob_V1_V2']))\n",
    "\n"
   ]
  },
  {
   "cell_type": "code",
   "execution_count": 72,
   "metadata": {
    "ExecuteTime": {
     "end_time": "2020-10-21T15:47:04.075872Z",
     "start_time": "2020-10-21T15:47:03.824846Z"
    }
   },
   "outputs": [],
   "source": [
    "individual = individual[(individual['z_IMC']<3) & (individual['z_IMC']>-3)]\n",
    "individual = individual[(individual['z_idade']<3) & (individual['z_idade']>-3)]\n",
    "\n",
    "df = df[(df['z_prob_V1_V2']<3) & (df['z_prob_V1_V2']>-3)]"
   ]
  },
  {
   "cell_type": "code",
   "execution_count": 73,
   "metadata": {
    "ExecuteTime": {
     "end_time": "2020-10-21T15:47:04.137872Z",
     "start_time": "2020-10-21T15:47:04.077873Z"
    }
   },
   "outputs": [],
   "source": [
    "individual.drop(['z_IMC', 'z_idade'], axis=1, inplace=True)"
   ]
  },
  {
   "cell_type": "code",
   "execution_count": 74,
   "metadata": {
    "ExecuteTime": {
     "end_time": "2020-10-21T15:47:04.211849Z",
     "start_time": "2020-10-21T15:47:04.139847Z"
    }
   },
   "outputs": [
    {
     "data": {
      "text/plain": [
       "count    787373.000\n",
       "mean         22.201\n",
       "std           6.564\n",
       "min           4.853\n",
       "25%          17.378\n",
       "50%          21.351\n",
       "75%          26.187\n",
       "max          43.703\n",
       "Name: IMC, dtype: float64"
      ]
     },
     "execution_count": 74,
     "metadata": {},
     "output_type": "execute_result"
    }
   ],
   "source": [
    "individual['IMC'].describe().round(3)"
   ]
  },
  {
   "cell_type": "code",
   "execution_count": 75,
   "metadata": {
    "ExecuteTime": {
     "end_time": "2020-10-21T15:47:04.319250Z",
     "start_time": "2020-10-21T15:47:04.213844Z"
    }
   },
   "outputs": [
    {
     "name": "stdout",
     "output_type": "stream",
     "text": [
      "Coeficiente de Correlação de Pearson entre idade e IMC: -0.0\n"
     ]
    }
   ],
   "source": [
    "\"\"\" \n",
    "Coeficiente de Corr. de Pearson entre Idade e IMC resulta num valor praticamente nulo, \n",
    "apontando para não correlação linear entre ambas\n",
    "\n",
    "\"\"\" \n",
    "corr = stats.pearsonr(individual['idade'], individual['IMC'])[0].round(4)\n",
    "print('Coeficiente de Correlação de Pearson entre idade e IMC: {}'.format(corr))"
   ]
  },
  {
   "cell_type": "code",
   "execution_count": 76,
   "metadata": {
    "ExecuteTime": {
     "end_time": "2020-10-21T15:47:04.385248Z",
     "start_time": "2020-10-21T15:47:04.321248Z"
    }
   },
   "outputs": [],
   "source": [
    "# Mesclando Datasets"
   ]
  },
  {
   "cell_type": "code",
   "execution_count": 77,
   "metadata": {
    "ExecuteTime": {
     "end_time": "2020-10-21T15:47:05.578249Z",
     "start_time": "2020-10-21T15:47:04.387248Z"
    }
   },
   "outputs": [],
   "source": [
    "ind_V1 = individual.copy()\n",
    "ind_V2 = individual.copy()\n",
    "\n",
    "to_categorize = individual.select_dtypes(include='object')\n",
    "\n",
    "ind_V1 = utils.rename_category(ind_V1, to_categorize, '_V1')\n",
    "ind_V2 = utils.rename_category(ind_V2, to_categorize, '_V2')"
   ]
  },
  {
   "cell_type": "code",
   "execution_count": 78,
   "metadata": {
    "ExecuteTime": {
     "end_time": "2020-10-21T15:47:05.586251Z",
     "start_time": "2020-10-21T15:47:05.580250Z"
    }
   },
   "outputs": [],
   "source": [
    "ind_V1.columns = [str(col) + '_V1' for col in ind_V1.columns]\n",
    "ind_V2.columns = [str(col) + '_V2' for col in ind_V2.columns]"
   ]
  },
  {
   "cell_type": "code",
   "execution_count": 79,
   "metadata": {
    "ExecuteTime": {
     "end_time": "2020-10-21T15:47:05.782648Z",
     "start_time": "2020-10-21T15:47:05.588248Z"
    }
   },
   "outputs": [],
   "source": [
    "ind_V1['V1'] = ind_V1['name_V1']\n",
    "ind_V2['V2'] = ind_V2['name_V2']\n",
    "\n",
    "ind_V1.drop('name_V1', axis=1, inplace=True)\n",
    "ind_V2.drop('name_V2', axis=1, inplace=True)"
   ]
  },
  {
   "cell_type": "code",
   "execution_count": 80,
   "metadata": {
    "ExecuteTime": {
     "end_time": "2020-10-21T15:47:06.609674Z",
     "start_time": "2020-10-21T15:47:05.784648Z"
    }
   },
   "outputs": [],
   "source": [
    "df = df.merge(ind_V1, on='V1', how='left')\n",
    "df = df.merge(ind_V2, on='V2', how='left')"
   ]
  },
  {
   "cell_type": "code",
   "execution_count": 81,
   "metadata": {
    "ExecuteTime": {
     "end_time": "2020-10-21T15:47:08.782648Z",
     "start_time": "2020-10-21T15:47:06.611650Z"
    }
   },
   "outputs": [],
   "source": [
    "to_dummy = df.select_dtypes(include='object')\n",
    "df = utils.one_hot_encoder(df, to_dummy)\n",
    "df.dropna(inplace=True)"
   ]
  },
  {
   "cell_type": "code",
   "execution_count": 82,
   "metadata": {
    "ExecuteTime": {
     "end_time": "2020-10-21T15:47:08.874648Z",
     "start_time": "2020-10-21T15:47:08.784650Z"
    }
   },
   "outputs": [],
   "source": [
    "# Escalar idade e IMC\n",
    "to_scaler = ['idade_V1','idade_V2','IMC_V1','IMC_V2']\n",
    "data_scaled = StandardScaler().fit_transform(df[to_scaler].values) \n",
    "scaled_features_df = pd.DataFrame(data_scaled, index=df[to_scaler].index, columns=df[to_scaler].columns)\n",
    "\n",
    "df = pd.concat([df.drop(to_scaler, axis=1), scaled_features_df], axis=1)"
   ]
  },
  {
   "cell_type": "code",
   "execution_count": 83,
   "metadata": {
    "ExecuteTime": {
     "end_time": "2020-10-21T15:47:08.927652Z",
     "start_time": "2020-10-21T15:47:08.877648Z"
    }
   },
   "outputs": [],
   "source": [
    "to_drop_ld = ['amigos', 'visita_frequente', 'casado_V1',\n",
    "              'taxi_V1', 'casado_V2', 'taxi_V2',\n",
    "             'sem_info_filhos_V1','sem_info_filhos_V2',\n",
    "             ]\n",
    "\n",
    "df.drop(to_drop_ld, axis=1, inplace=True)"
   ]
  },
  {
   "cell_type": "code",
   "execution_count": 84,
   "metadata": {
    "ExecuteTime": {
     "end_time": "2020-10-21T15:47:08.998675Z",
     "start_time": "2020-10-21T15:47:08.929650Z"
    }
   },
   "outputs": [],
   "source": [
    "X = df.drop(['V1', 'V2', 'prob_V1_V2'], axis=1)\n",
    "y = df['prob_V1_V2']"
   ]
  },
  {
   "cell_type": "code",
   "execution_count": 85,
   "metadata": {
    "ExecuteTime": {
     "end_time": "2020-10-21T15:47:09.077555Z",
     "start_time": "2020-10-21T15:47:09.000648Z"
    }
   },
   "outputs": [
    {
     "data": {
      "text/plain": [
       "(168521, 33)"
      ]
     },
     "execution_count": 85,
     "metadata": {},
     "output_type": "execute_result"
    }
   ],
   "source": [
    "df.shape"
   ]
  },
  {
   "cell_type": "code",
   "execution_count": 86,
   "metadata": {
    "ExecuteTime": {
     "end_time": "2020-10-21T15:47:09.187032Z",
     "start_time": "2020-10-21T15:47:09.079550Z"
    }
   },
   "outputs": [
    {
     "data": {
      "text/plain": [
       "Index(['V1', 'V2', 'prob_V1_V2', 'z_prob_V1_V2', 'estuda_V1', 'trabalha_V1',\n",
       "       'pratica_esportes_V1', 'estuda_V2', 'trabalha_V2',\n",
       "       'pratica_esportes_V2', 'familia', 'trabalho', 'mora_junto',\n",
       "       'visita_casual', 'visita_rara', 'divorciado_V1', 'solteiro_V1',\n",
       "       'viuvo_V1', 'particular_V1', 'publico_V1', 'filhos_V1', 'sem_filhos_V1',\n",
       "       'divorciado_V2', 'solteiro_V2', 'viuvo_V2', 'particular_V2',\n",
       "       'publico_V2', 'filhos_V2', 'sem_filhos_V2', 'idade_V1', 'idade_V2',\n",
       "       'IMC_V1', 'IMC_V2'],\n",
       "      dtype='object')"
      ]
     },
     "execution_count": 86,
     "metadata": {},
     "output_type": "execute_result"
    }
   ],
   "source": [
    "df.columns"
   ]
  },
  {
   "cell_type": "code",
   "execution_count": null,
   "metadata": {},
   "outputs": [],
   "source": []
  },
  {
   "cell_type": "code",
   "execution_count": 87,
   "metadata": {
    "ExecuteTime": {
     "end_time": "2020-10-21T15:47:09.331679Z",
     "start_time": "2020-10-21T15:47:09.189033Z"
    }
   },
   "outputs": [],
   "source": [
    " X_train, X_test, y_train, y_test = train_test_split(X, y, test_size=0.35, random_state=42)"
   ]
  },
  {
   "cell_type": "code",
   "execution_count": null,
   "metadata": {},
   "outputs": [],
   "source": []
  },
  {
   "cell_type": "code",
   "execution_count": 88,
   "metadata": {
    "ExecuteTime": {
     "end_time": "2020-10-21T15:47:09.475352Z",
     "start_time": "2020-10-21T15:47:09.334679Z"
    }
   },
   "outputs": [],
   "source": [
    "\n",
    "ridge = Ridge(alpha=0.03)\n",
    "ridge.fit(X_train,y_train)\n",
    "y_train_pred = ridge.predict(X_train)\n",
    "y_test_pred = ridge.predict(X_test)\n",
    "\n",
    "\n",
    "mean = mean_squared_error(y_test, y_test_pred) \n",
    "ridge_rmse = np.sqrt(mean_squared_error(y_test, y_test_pred))"
   ]
  },
  {
   "cell_type": "code",
   "execution_count": 89,
   "metadata": {
    "ExecuteTime": {
     "end_time": "2020-10-21T15:47:09.494325Z",
     "start_time": "2020-10-21T15:47:09.477324Z"
    }
   },
   "outputs": [
    {
     "data": {
      "text/plain": [
       "0.11002705717976403"
      ]
     },
     "execution_count": 89,
     "metadata": {},
     "output_type": "execute_result"
    }
   ],
   "source": [
    "ridge_rmse\n",
    "\n",
    "# 0.11093615575751926 Original\n",
    "# 0.1109361471131281 Deixando LI\n",
    "# 0.11069279363060261 Retirando Outliers Alpha = 0.1\n",
    "# 0.11002705717976403 Filhos Categorizados"
   ]
  },
  {
   "cell_type": "code",
   "execution_count": 91,
   "metadata": {
    "ExecuteTime": {
     "end_time": "2020-10-21T15:47:49.927802Z",
     "start_time": "2020-10-21T15:47:49.922803Z"
    }
   },
   "outputs": [],
   "source": [
    "def rmse_cv(model, cv):\n",
    "    \n",
    "    \"\"\"\n",
    "    Retorna o RMSE dos Dataset de teste e treino.\n",
    "    \n",
    "    model: Objeto do modelo treinado.\n",
    "    cv: Número 'k' de K-Fold Cross-Validation\n",
    "    \n",
    "    \"\"\"\n",
    "    \n",
    "    scorer = make_scorer(mean_squared_error, greater_is_better = False)     \n",
    "    rmse_train = np.sqrt(-cross_val_score(model, X_train,\n",
    "                                          y_train, scoring = scorer, cv = cv)) # Calcula o RMSE do dataset de treino.    \n",
    "    rmse_test = np.sqrt(-cross_val_score(model, X_test,\n",
    "                                         y_test, scoring = scorer, cv = cv)) # Calcula o RMSE do dataset de teste.\n",
    "    \n",
    "    return(print(\"RMSE do Dataset de Treino :\", rmse_train.mean(),\"\\n\" \"RMSE do Dataset de Teste :\", rmse_test.mean()))"
   ]
  },
  {
   "cell_type": "code",
   "execution_count": 92,
   "metadata": {
    "ExecuteTime": {
     "end_time": "2020-10-21T15:47:51.453840Z",
     "start_time": "2020-10-21T15:47:50.428844Z"
    }
   },
   "outputs": [
    {
     "name": "stdout",
     "output_type": "stream",
     "text": [
      "RMSE do Dataset de Treino : 0.11068567940457039 \n",
      "RMSE do Dataset de Teste : 0.11004130474506013\n"
     ]
    }
   ],
   "source": [
    "rmse_cv(ridge, 10)"
   ]
  },
  {
   "cell_type": "code",
   "execution_count": 93,
   "metadata": {
    "ExecuteTime": {
     "end_time": "2020-10-21T15:48:08.473023Z",
     "start_time": "2020-10-21T15:48:08.464020Z"
    }
   },
   "outputs": [
    {
     "name": "stdout",
     "output_type": "stream",
     "text": [
      "Root Mean Square Error train = 0.1106534300995298\n",
      "Root Mean Square Error test = 0.11002705717976403\n"
     ]
    }
   ],
   "source": [
    "print('Root Mean Square Error train = ' + str(np.sqrt(mean_squared_error(y_train, y_train_pred))))\n",
    "print('Root Mean Square Error test = ' + str(np.sqrt(mean_squared_error(y_test, y_test_pred))))"
   ]
  },
  {
   "cell_type": "code",
   "execution_count": 94,
   "metadata": {
    "ExecuteTime": {
     "end_time": "2020-10-21T15:48:16.589872Z",
     "start_time": "2020-10-21T15:48:16.388872Z"
    }
   },
   "outputs": [
    {
     "name": "stdout",
     "output_type": "stream",
     "text": [
      "Ridge picked 30 features and eliminated the other 0 features\n"
     ]
    },
    {
     "data": {
      "image/png": "[encoded data removed]",
      "text/plain": [
       "<Figure size 432x288 with 1 Axes>"
      ]
     },
     "metadata": {
      "needs_background": "light"
     },
     "output_type": "display_data"
    }
   ],
   "source": [
    "coefs = pd.Series(ridge.coef_, index = X_train.columns)\n",
    "print(\"Ridge picked \" + str(sum(coefs != 0)) + \" features and eliminated the other \" +  \\\n",
    "      str(sum(coefs == 0)) + \" features\")\n",
    "imp_coefs = pd.concat([coefs.sort_values().head(10),\n",
    "                     coefs.sort_values().tail(10)])\n",
    "imp_coefs.plot(kind = \"barh\")\n",
    "plt.title(\"Coefficients in the Ridge Model\")\n",
    "plt.show()"
   ]
  },
  {
   "cell_type": "code",
   "execution_count": 95,
   "metadata": {
    "ExecuteTime": {
     "end_time": "2020-10-21T15:48:38.143127Z",
     "start_time": "2020-10-21T15:48:38.123122Z"
    }
   },
   "outputs": [
    {
     "name": "stdout",
     "output_type": "stream",
     "text": [
      "Variance score: 0.5961872568146878\n"
     ]
    }
   ],
   "source": [
    "# variance score: 1 means perfect prediction \n",
    "print('Variance score: {}'.format(ridge.score(X_test, y_test))) "
   ]
  },
  {
   "cell_type": "code",
   "execution_count": null,
   "metadata": {},
   "outputs": [],
   "source": []
  },
  {
   "cell_type": "code",
   "execution_count": null,
   "metadata": {},
   "outputs": [],
   "source": []
  },
  {
   "cell_type": "code",
   "execution_count": null,
   "metadata": {},
   "outputs": [],
   "source": []
  },
  {
   "cell_type": "code",
   "execution_count": null,
   "metadata": {},
   "outputs": [],
   "source": []
  },
  {
   "cell_type": "code",
   "execution_count": null,
   "metadata": {},
   "outputs": [],
   "source": []
  },
  {
   "cell_type": "code",
   "execution_count": null,
   "metadata": {},
   "outputs": [],
   "source": []
  },
  {
   "cell_type": "code",
   "execution_count": null,
   "metadata": {},
   "outputs": [],
   "source": []
  }
 ],
 "metadata": {
  "kernelspec": {
   "display_name": "Python 3",
   "language": "python",
   "name": "python3"
  },
  "language_info": {
   "codemirror_mode": {
    "name": "ipython",
    "version": 3
   },
   "file_extension": ".py",
   "mimetype": "text/x-python",
   "name": "python",
   "nbconvert_exporter": "python",
   "pygments_lexer": "ipython3",
   "version": "3.7.7"
  }
 },
 "nbformat": 4,
 "nbformat_minor": 4
}
