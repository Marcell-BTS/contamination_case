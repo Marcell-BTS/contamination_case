{
 "cells": [
  {
   "cell_type": "markdown",
   "metadata": {},
   "source": [
    "#### Contexto: \n",
    "Você é um funcionário da OMS que tem que avaliar os níveis de contaminação de um vírus\n",
    "em um determinado país. Todas as pessoas dentro de uma sociedade, estão conectadas de\n",
    "alguma maneira (familia, amizade ou trabalho) e cada pessoa possui um conjunto de\n",
    "atributos.\n",
    "\n",
    "#### Objetivo:\n",
    "Estimar a taxa para o restante dessa\n",
    "sociedade.\n"
   ]
  },
  {
   "cell_type": "code",
   "execution_count": 1,
   "metadata": {
    "ExecuteTime": {
     "end_time": "2020-10-23T17:16:53.133788Z",
     "start_time": "2020-10-23T17:16:51.740613Z"
    }
   },
   "outputs": [],
   "source": [
    "import pandas as pd\n",
    "import numpy as np\n",
    "import matplotlib.pyplot as plt\n",
    "import seaborn as sns\n",
    "import warnings\n",
    "warnings.filterwarnings('ignore')\n",
    "\n",
    "from scipy import stats\n",
    "from scipy.stats import pearsonr, spearmanr\n",
    "\n",
    "from sklearn.linear_model import Ridge, RidgeCV, Lasso, LassoCV, LinearRegression, ElasticNetCV\n",
    "from sklearn.model_selection import train_test_split, cross_val_score, GridSearchCV, cross_validate\n",
    "from sklearn.preprocessing import StandardScaler\n",
    "from sklearn.metrics import mean_squared_error, make_scorer\n",
    "from sklearn.feature_selection import SelectFromModel\n",
    "\n",
    "import utils"
   ]
  },
  {
   "cell_type": "code",
   "execution_count": 2,
   "metadata": {
    "ExecuteTime": {
     "end_time": "2020-10-23T17:16:54.239640Z",
     "start_time": "2020-10-23T17:16:53.136614Z"
    }
   },
   "outputs": [],
   "source": [
    "connections = pd.read_csv('./data/conexoes_espec.csv', sep=';')\n",
    "individual = pd.read_csv('./data/individuos_espec.csv', sep=';')"
   ]
  },
  {
   "cell_type": "markdown",
   "metadata": {},
   "source": [
    "## 1. Iniciação dos Dados\n",
    "Entendendo a base de dados.\n",
    "\n",
    "Realizar limpeza na base, verificar missing values e outliers. Em seguida, analisar o comportamento da variável resposta, além das caracteristicas dos indivíduos da população."
   ]
  },
  {
   "cell_type": "markdown",
   "metadata": {},
   "source": [
    "Antes disso, uma passada rápida por ambos os datasets.\n",
    "\n",
    "Base \"connections\":\n",
    "\n",
    "- Fazendo uma rápida prévia dos dados, observamos 5 variáveis: \n",
    "\n",
    "- V1 e V2 são os indivíduos conectados, junto a duas variáveis categóricas \"grau\" e \"proximidade\". \n",
    "\n",
    "- A variável \"prob_V1_V2\", nosso target, é contínua, com valores contidos no intervalo [0,1]."
   ]
  },
  {
   "cell_type": "code",
   "execution_count": 3,
   "metadata": {
    "ExecuteTime": {
     "end_time": "2020-10-23T17:16:54.249642Z",
     "start_time": "2020-10-23T17:16:54.242616Z"
    }
   },
   "outputs": [
    {
     "data": {
      "text/plain": [
       "V1               int64\n",
       "V2               int64\n",
       "grau            object\n",
       "proximidade     object\n",
       "prob_V1_V2     float64\n",
       "dtype: object"
      ]
     },
     "execution_count": 3,
     "metadata": {},
     "output_type": "execute_result"
    }
   ],
   "source": [
    "connections.dtypes"
   ]
  },
  {
   "cell_type": "markdown",
   "metadata": {},
   "source": [
    "Base: \"individual\":\n",
    "\n",
    "- Se apresenta com duas variáveis numéricas: \"Idade\" e \"IMC\".\n",
    "\n",
    "- \"Name\" é a chave de identificação de cada indivíduo. As variáveis \"estuda\", \"trabalha\" e \"pratica_esportes\" são variáveis categoricas binárias, além do \"estado_civil\" e \"transporte_mais_utilizado\" que apresentam mais de uma categoria. \n",
    "\n",
    "- \"qt_filhos\" é uma variável ordinal que pode ser trabalhada como categoria também."
   ]
  },
  {
   "cell_type": "code",
   "execution_count": 4,
   "metadata": {
    "ExecuteTime": {
     "end_time": "2020-10-23T17:16:54.428720Z",
     "start_time": "2020-10-23T17:16:54.252616Z"
    }
   },
   "outputs": [
    {
     "data": {
      "text/plain": [
       "name                           int64\n",
       "idade                        float64\n",
       "estado_civil                  object\n",
       "qt_filhos                    float64\n",
       "estuda                       float64\n",
       "trabalha                     float64\n",
       "pratica_esportes             float64\n",
       "transporte_mais_utilizado     object\n",
       "IMC                          float64\n",
       "dtype: object"
      ]
     },
     "execution_count": 4,
     "metadata": {},
     "output_type": "execute_result"
    }
   ],
   "source": [
    "individual.dtypes"
   ]
  },
  {
   "cell_type": "markdown",
   "metadata": {},
   "source": [
    "### 1.1 Variável Target"
   ]
  },
  {
   "cell_type": "markdown",
   "metadata": {},
   "source": [
    "A variável target é continua e, por ser um vetor de probabilidades, seu domínio está composto dentro do intervalo [0,1].\n",
    "\n",
    "Por conta disso, temos um problema supervisionado de regressão. Estimar as taxas de contaminação para conexões dentro de uma população, levando em conta as características pessoais de ambos indivíduos.\n",
    "\n",
    "Utilizaremos a função de custo RMSE, pois por serem probabilidades de infecção de uma doença sem cura, pequenos desvios podem até ser aceitaveis, mas uma predição muito errada pode ser catastrófica (penalização maior de discrepâncias muito grandes)."
   ]
  },
  {
   "cell_type": "code",
   "execution_count": 5,
   "metadata": {
    "ExecuteTime": {
     "end_time": "2020-10-23T17:16:54.652587Z",
     "start_time": "2020-10-23T17:16:54.429705Z"
    }
   },
   "outputs": [
    {
     "data": {
      "text/plain": [
       "count    499999.000000\n",
       "mean          0.485162\n",
       "std           0.173963\n",
       "min           0.074462\n",
       "25%           0.351677\n",
       "50%           0.486413\n",
       "75%           0.618210\n",
       "max           0.942245\n",
       "Name: prob_V1_V2, dtype: float64"
      ]
     },
     "execution_count": 5,
     "metadata": {},
     "output_type": "execute_result"
    }
   ],
   "source": [
    "connections['prob_V1_V2'].describe()"
   ]
  },
  {
   "cell_type": "code",
   "execution_count": 6,
   "metadata": {
    "ExecuteTime": {
     "end_time": "2020-10-23T17:16:55.089079Z",
     "start_time": "2020-10-23T17:16:54.654585Z"
    }
   },
   "outputs": [
    {
     "data": {
      "text/plain": [
       "<matplotlib.axes._subplots.AxesSubplot at 0x12dabaa8308>"
      ]
     },
     "execution_count": 6,
     "metadata": {},
     "output_type": "execute_result"
    },
    {
     "data": {
      "image/png": "[encoded data removed]",
      "text/plain": [
       "<Figure size 432x288 with 1 Axes>"
      ]
     },
     "metadata": {
      "needs_background": "light"
     },
     "output_type": "display_data"
    }
   ],
   "source": [
    "sns.distplot(connections['prob_V1_V2'])"
   ]
  },
  {
   "cell_type": "code",
   "execution_count": 7,
   "metadata": {
    "ExecuteTime": {
     "end_time": "2020-10-23T17:16:55.236050Z",
     "start_time": "2020-10-23T17:16:55.093050Z"
    }
   },
   "outputs": [
    {
     "data": {
      "text/plain": [
       "<matplotlib.axes._subplots.AxesSubplot at 0x12db1cdf688>"
      ]
     },
     "execution_count": 7,
     "metadata": {},
     "output_type": "execute_result"
    },
    {
     "data": {
      "image/png": "[encoded data removed]",
      "text/plain": [
       "<Figure size 432x288 with 1 Axes>"
      ]
     },
     "metadata": {
      "needs_background": "light"
     },
     "output_type": "display_data"
    }
   ],
   "source": [
    "sns.boxplot(connections['prob_V1_V2'])"
   ]
  },
  {
   "cell_type": "markdown",
   "metadata": {},
   "source": [
    "Como visualizado nas métricas e gráficos, a distribuição das probabilidades de contaminação não apresentam outliers e estão presentes em uma distribuição de sino (porém, não normal). Não observamos assimetrias acentuadas além de termos média e mediana similares.\n",
    "\n",
    "Observa-se que 50% dos dados estão compreendidos no intervalo aproximado de 35% e 61% de probabilidade de contaminação.\n",
    "\n",
    "Como a variável resposta possui missing values (por conta da natureza do Case), vamos prosseguir com sua separação para obtenção de um conjunto de teste."
   ]
  },
  {
   "cell_type": "code",
   "execution_count": 8,
   "metadata": {
    "ExecuteTime": {
     "end_time": "2020-10-23T17:16:55.293064Z",
     "start_time": "2020-10-23T17:16:55.241051Z"
    }
   },
   "outputs": [],
   "source": [
    "df = connections[~connections['prob_V1_V2'].isnull()]"
   ]
  },
  {
   "cell_type": "markdown",
   "metadata": {},
   "source": [
    "### 1.2 Missing Values\n",
    "\n",
    "Mensurando a proporção dos missings em ambas as bases de dados para um maior entendimento da base de dados."
   ]
  },
  {
   "cell_type": "code",
   "execution_count": 9,
   "metadata": {
    "ExecuteTime": {
     "end_time": "2020-10-23T17:16:55.756569Z",
     "start_time": "2020-10-23T17:16:55.296048Z"
    }
   },
   "outputs": [
    {
     "data": {
      "text/plain": [
       "Text(0.5, 1.0, '% of Missings por Variavel: Base Individual')"
      ]
     },
     "execution_count": 9,
     "metadata": {},
     "output_type": "execute_result"
    },
    {
     "data": {
      "image/png": "[encoded data removed]",
      "text/plain": [
       "<Figure size 1440x720 with 1 Axes>"
      ]
     },
     "metadata": {
      "needs_background": "light"
     },
     "output_type": "display_data"
    }
   ],
   "source": [
    "prop_missings = (individual.isna().sum().sort_values(ascending = False)/individual.shape[0])\n",
    "f, ax = plt.subplots(figsize=(20,10))\n",
    "plt.xticks(rotation = '90')\n",
    "sns.barplot(x = prop_missings.index, y = prop_missings)\n",
    "plt.xlabel('Variables', fontsize = 15)\n",
    "plt.ylabel('% of Missings', fontsize = 15)\n",
    "plt.title('% of Missings por Variavel: Base Individual', fontsize = 15)"
   ]
  },
  {
   "cell_type": "markdown",
   "metadata": {},
   "source": [
    "Com excessão da variável \"name\", todas as outras apresentam alguma uma porcentagem de missing values. O intuito será trabalhar esses valores faltantes de alguma forma, evitando perda de informação e mantendo (o máximo possível) a qualidade dos dados.\n",
    "\n",
    "Além disso, os missings não tratados na base \"individual\" vão estar presentes no dataset de estimação a ser enviado no final da atividade, causando problemas para realizar predições. Consequência disso é que nenhuma linha pode ser excluída desse exercício.\n",
    "\n",
    "Obs: Apenas a variável \"prob_V1_V2\" do dataset \"connections\" tinha missings, dado a natureza do problema proposto."
   ]
  },
  {
   "cell_type": "markdown",
   "metadata": {},
   "source": [
    "#### 1.2.1 Recodando as Variáveis Categóricas"
   ]
  },
  {
   "cell_type": "code",
   "execution_count": 10,
   "metadata": {
    "ExecuteTime": {
     "end_time": "2020-10-23T17:16:55.779530Z",
     "start_time": "2020-10-23T17:16:55.758528Z"
    }
   },
   "outputs": [
    {
     "data": {
      "text/plain": [
       "0.0    401401\n",
       "1.0    331186\n",
       "2.0    166111\n",
       "3.0     55410\n",
       "4.0     13770\n",
       "5.0      2716\n",
       "6.0       476\n",
       "7.0        53\n",
       "8.0         9\n",
       "9.0         1\n",
       "Name: qt_filhos, dtype: int64"
      ]
     },
     "execution_count": 10,
     "metadata": {},
     "output_type": "execute_result"
    }
   ],
   "source": [
    "# Existem muitas categorias dentro de \"qt_filhos\". Cerca de 40% são de pessoas que não tem filhos. \n",
    "individual['qt_filhos'].value_counts()"
   ]
  },
  {
   "cell_type": "code",
   "execution_count": 11,
   "metadata": {
    "ExecuteTime": {
     "end_time": "2020-10-23T17:16:56.128674Z",
     "start_time": "2020-10-23T17:16:55.781528Z"
    }
   },
   "outputs": [
    {
     "data": {
      "text/plain": [
       "<matplotlib.axes._subplots.AxesSubplot at 0x12db1e5e348>"
      ]
     },
     "execution_count": 11,
     "metadata": {},
     "output_type": "execute_result"
    },
    {
     "data": {
      "image/png": "[encoded data removed]",
      "text/plain": [
       "<Figure size 432x288 with 1 Axes>"
      ]
     },
     "metadata": {
      "needs_background": "light"
     },
     "output_type": "display_data"
    }
   ],
   "source": [
    "sns.countplot(individual['qt_filhos'])"
   ]
  },
  {
   "cell_type": "code",
   "execution_count": 12,
   "metadata": {
    "ExecuteTime": {
     "end_time": "2020-10-23T17:16:56.488672Z",
     "start_time": "2020-10-23T17:16:56.130708Z"
    }
   },
   "outputs": [],
   "source": [
    "# Recodando a variável, obtemos três categorias: Se tem filhos, se não tem, e os missings tratados como \"sem_info\".\n",
    "\n",
    "individual['filhos_status'] = np.where(individual['qt_filhos']==0, 'sem_filhos',\n",
    "                               np.where(individual['qt_filhos']>0, 'filhos', 'sem_info_filhos'))\n",
    "\n",
    "individual.drop('qt_filhos', axis=1, inplace=True) "
   ]
  },
  {
   "cell_type": "code",
   "execution_count": 13,
   "metadata": {
    "ExecuteTime": {
     "end_time": "2020-10-23T17:16:56.637688Z",
     "start_time": "2020-10-23T17:16:56.490672Z"
    }
   },
   "outputs": [],
   "source": [
    "# Variáveis Categóricas Não Binárias podem ser preenchidas com \"sem_info\".\n",
    "\n",
    "to_fillna = individual.select_dtypes(include='object').columns # Variáveis Categóricas Não Binárias.\n",
    "\n",
    "for column in to_fillna:\n",
    "    individual[column].fillna('sem_info_' + column, inplace=True)\n",
    "    \n"
   ]
  },
  {
   "cell_type": "code",
   "execution_count": 14,
   "metadata": {
    "ExecuteTime": {
     "end_time": "2020-10-23T17:16:57.628492Z",
     "start_time": "2020-10-23T17:16:56.639673Z"
    }
   },
   "outputs": [],
   "source": [
    "# Refatorando variáveis binárias.\n",
    "\n",
    "individual['estuda'] = np.where(individual['estuda']==0, 'nao_estuda',\n",
    "                               np.where(individual['estuda']==1, 'estuda', 'sem_info_estuda'))\n",
    "\n",
    "individual['trabalha'] = np.where(individual['trabalha']==0, 'nao_trabalha',\n",
    "                               np.where(individual['trabalha']==1, 'trabalha', 'sem_info_trabalha'))\n",
    "\n",
    "individual['pratica_esportes'] = np.where(individual['pratica_esportes']==0, 'nao_pratica_esportes',\n",
    "                               np.where(individual['pratica_esportes']==1, 'pratica_esportes', 'sem_info_pratica_esportes'))\n",
    "\n"
   ]
  },
  {
   "cell_type": "markdown",
   "metadata": {},
   "source": [
    "#### 1.2.2 Imputação nas Variáveis Numéricas"
   ]
  },
  {
   "cell_type": "markdown",
   "metadata": {},
   "source": [
    "Antes da imputação, vamos observar a distribuição das variáveis \"Idade\" e \"IMC\"."
   ]
  },
  {
   "cell_type": "code",
   "execution_count": 15,
   "metadata": {
    "ExecuteTime": {
     "end_time": "2020-10-23T17:16:57.811537Z",
     "start_time": "2020-10-23T17:16:57.630497Z"
    }
   },
   "outputs": [
    {
     "data": {
      "text/plain": [
       "Text(0.5, 1.0, 'Idade: IMC')"
      ]
     },
     "execution_count": 15,
     "metadata": {},
     "output_type": "execute_result"
    },
    {
     "data": {
      "image/png": "[encoded data removed]",
      "text/plain": [
       "<Figure size 576x288 with 1 Axes>"
      ]
     },
     "metadata": {
      "needs_background": "light"
     },
     "output_type": "display_data"
    }
   ],
   "source": [
    "# Idade \n",
    "a4_dims = (8, 4)\n",
    "fig, ax = plt.subplots(figsize=a4_dims)\n",
    "sns.boxplot(individual['idade'], color='red').set_title('Idade: IMC')"
   ]
  },
  {
   "cell_type": "code",
   "execution_count": 16,
   "metadata": {
    "ExecuteTime": {
     "end_time": "2020-10-23T17:16:57.859508Z",
     "start_time": "2020-10-23T17:16:57.812505Z"
    }
   },
   "outputs": [
    {
     "data": {
      "text/plain": [
       "count    904063.000000\n",
       "mean         30.008431\n",
       "std          10.951566\n",
       "min           0.000000\n",
       "25%          22.000000\n",
       "50%          29.000000\n",
       "75%          37.000000\n",
       "max         124.000000\n",
       "Name: idade, dtype: float64"
      ]
     },
     "execution_count": 16,
     "metadata": {},
     "output_type": "execute_result"
    }
   ],
   "source": [
    "individual['idade'].describe()"
   ]
  },
  {
   "cell_type": "code",
   "execution_count": 17,
   "metadata": {
    "ExecuteTime": {
     "end_time": "2020-10-23T17:16:58.195744Z",
     "start_time": "2020-10-23T17:16:57.861496Z"
    }
   },
   "outputs": [
    {
     "data": {
      "text/plain": [
       "Text(0.5, 1.0, 'BoxPlot: IMC')"
      ]
     },
     "execution_count": 17,
     "metadata": {},
     "output_type": "execute_result"
    },
    {
     "data": {
      "image/png": "[encoded data removed]",
      "text/plain": [
       "<Figure size 576x288 with 1 Axes>"
      ]
     },
     "metadata": {
      "needs_background": "light"
     },
     "output_type": "display_data"
    }
   ],
   "source": [
    "# IMC\n",
    "a4_dims = (8, 4)\n",
    "fig, ax = plt.subplots(figsize=a4_dims)\n",
    "sns.boxplot(individual['IMC']).set_title('BoxPlot: IMC')"
   ]
  },
  {
   "cell_type": "code",
   "execution_count": 18,
   "metadata": {
    "ExecuteTime": {
     "end_time": "2020-10-23T17:16:58.241742Z",
     "start_time": "2020-10-23T17:16:58.197739Z"
    }
   },
   "outputs": [
    {
     "data": {
      "text/plain": [
       "count    886130.000000\n",
       "mean         22.472079\n",
       "std           7.073692\n",
       "min           4.852828\n",
       "25%          17.420851\n",
       "50%          21.431200\n",
       "75%          26.378197\n",
       "max          89.158204\n",
       "Name: IMC, dtype: float64"
      ]
     },
     "execution_count": 18,
     "metadata": {},
     "output_type": "execute_result"
    }
   ],
   "source": [
    "individual['IMC'].describe()"
   ]
  },
  {
   "cell_type": "markdown",
   "metadata": {},
   "source": [
    "Ambas as variáveis possuem uma quantidade bastante inflada de outliers (alias, IMC acima de 40 já é considerado Obesidade Mórbida, e temos indivíduos com 70+). Um método de imputação seria pela mediana dessas quantidades, uma vez que esta é robusta a outliers dentro de uma distribuição (apesar de observarmos que em ambos os casos, a média está bem próxima da mediana, vamos seguir com a mediana por conta dessa justificativa)."
   ]
  },
  {
   "cell_type": "code",
   "execution_count": 19,
   "metadata": {
    "ExecuteTime": {
     "end_time": "2020-10-23T17:16:58.368624Z",
     "start_time": "2020-10-23T17:16:58.243739Z"
    }
   },
   "outputs": [],
   "source": [
    "individual['IMC'].fillna(individual['IMC'].median(), inplace=True)\n",
    "individual['idade'].fillna(individual['idade'].median(), inplace=True)"
   ]
  },
  {
   "cell_type": "markdown",
   "metadata": {},
   "source": [
    "Com isso, terminamos a etapa de missing values."
   ]
  },
  {
   "cell_type": "markdown",
   "metadata": {},
   "source": [
    "### 2. Sobre Outliers"
   ]
  },
  {
   "cell_type": "markdown",
   "metadata": {},
   "source": [
    "Como vimos acima, variáveis númericas apresentam outliers que podem inflar as estimações do nosso futuro modelo: Idades elevadas e IMC's totalmente incondizente com a relidade.\n",
    "\n",
    "Como mencionado anteriormente, nenhuma linha pode ser excluida desse dataset apesar de Idade e IMC conter outliers agressivos. Como menção honrosa, uma maneira interessante para detecção e exclusão destes, seria pela métrica do z-score: Transformando as variáveis numa distribuição N(0,1) e removendo observações que estejam 3 desvio padrões de distância da média.\n",
    "\n",
    "Utilizando as faixas de IMC para categorizar a variável. As faixas utilizadas foram retiradas do site: https://pt.wikipedia.org/wiki/%C3%8Dndice_de_massa_corporal#Tabela_de_IMC\n",
    "\n",
    "As faixas de idade são as usuais praticadas em campanhas de marketing por exemplo."
   ]
  },
  {
   "cell_type": "code",
   "execution_count": 20,
   "metadata": {
    "ExecuteTime": {
     "end_time": "2020-10-23T17:16:58.808010Z",
     "start_time": "2020-10-23T17:16:58.370449Z"
    }
   },
   "outputs": [],
   "source": [
    "individual['status_IMC'] = np.where(individual['IMC']<17, 'muito_abaixo',\n",
    "                               np.where((individual['IMC']>=17) & (individual['IMC']<18.5), 'abaixo',\n",
    "                                        np.where((individual['IMC']>=18.5)&(individual['IMC']<25), 'adequado',\n",
    "                                                 np.where((individual['IMC']>=25)&(individual['IMC']<30), 'acima',\n",
    "                                                         np.where((individual['IMC']>=30)&(individual['IMC']<35), 'obesidade_I',\n",
    "                                                                   np.where((individual['IMC']>=35)&(individual['IMC']<40), 'obesidade_II',\n",
    "                                                                            np.where((individual['IMC']>=40), 'obsidade_III','sem_info_imc')))))))"
   ]
  },
  {
   "cell_type": "code",
   "execution_count": 21,
   "metadata": {
    "ExecuteTime": {
     "end_time": "2020-10-23T17:16:59.175010Z",
     "start_time": "2020-10-23T17:16:58.810013Z"
    }
   },
   "outputs": [],
   "source": [
    "individual['faixa_etaria'] = np.where(individual['idade']<18, 'menor_18',\n",
    "                               np.where((individual['idade']>=18) & (individual['idade']<25), '18_24_anos',\n",
    "                                        np.where((individual['idade']>=25)&(individual['idade']<35), '25_34_anos',\n",
    "                                                 np.where((individual['idade']>=35)&(individual['idade']<45), '35_44_anos',\n",
    "                                                         np.where((individual['idade']>=45)&(individual['idade']<55), '45_54_anos',\n",
    "                                                                   np.where((individual['idade']>=55)&(individual['idade']<65), '55_64_anos',\n",
    "                                                                            np.where((individual['idade']>=65), 'maior_65','none')))))))"
   ]
  },
  {
   "cell_type": "code",
   "execution_count": 22,
   "metadata": {
    "ExecuteTime": {
     "end_time": "2020-10-23T17:16:59.281042Z",
     "start_time": "2020-10-23T17:16:59.177013Z"
    }
   },
   "outputs": [
    {
     "data": {
      "text/plain": [
       "25_34_anos    417271\n",
       "18_24_anos    200833\n",
       "35_44_anos    187973\n",
       "menor_18      102472\n",
       "45_54_anos     68804\n",
       "55_64_anos     18107\n",
       "maior_65        4540\n",
       "Name: faixa_etaria, dtype: int64"
      ]
     },
     "execution_count": 22,
     "metadata": {},
     "output_type": "execute_result"
    }
   ],
   "source": [
    "individual['faixa_etaria'].value_counts()"
   ]
  },
  {
   "cell_type": "code",
   "execution_count": 23,
   "metadata": {
    "ExecuteTime": {
     "end_time": "2020-10-23T17:16:59.348285Z",
     "start_time": "2020-10-23T17:16:59.288015Z"
    }
   },
   "outputs": [],
   "source": [
    "# Análise Outliers com z-score.\n",
    "\n",
    "#individual['z_IMC'] = np.abs(stats.zscore(individual['IMC']))\n",
    "#individual['z_idade'] = np.abs(stats.zscore(individual['idade']))\n",
    "\n",
    "#individual = individual[(individual['z_IMC']<3) & (individual['z_IMC']>-3)]\n",
    "#individual = individual[(individual['z_idade']<3) & (individual['z_idade']>-3)]\n",
    "\n",
    "#individual.drop(['z_IMC', 'z_idade'], axis=1, inplace=True)"
   ]
  },
  {
   "cell_type": "markdown",
   "metadata": {},
   "source": [
    "Aproveitando o estudo das variáveis, podemos também chegar por correlações entre elas. O ideal é que seja uma quantidade fraca para evitar multicolinearidade."
   ]
  },
  {
   "cell_type": "code",
   "execution_count": 24,
   "metadata": {
    "ExecuteTime": {
     "end_time": "2020-10-23T17:16:59.875322Z",
     "start_time": "2020-10-23T17:16:59.352290Z"
    }
   },
   "outputs": [
    {
     "name": "stdout",
     "output_type": "stream",
     "text": [
      "Coeficiente de Correlação de Pearson entre idade e IMC: -0.0003\n"
     ]
    }
   ],
   "source": [
    "# Coeficiente de Corr. de Pearson entre Idade e IMC resulta num valor praticamente nulo, \n",
    "# apontando para não correlação linear entre ambas.\n",
    "\n",
    "# O coeficiente explicita a ausência de correlação linear entre Idade e IMC.\n",
    "corr = stats.pearsonr(individual['idade'], individual['IMC'])[0].round(4)\n",
    "print('Coeficiente de Correlação de Pearson entre idade e IMC: {}'.format(corr))\n",
    "\n",
    "individual.drop(['idade', 'IMC'], axis=1, inplace=True)"
   ]
  },
  {
   "cell_type": "markdown",
   "metadata": {},
   "source": [
    "### 3. Análise Descritiva"
   ]
  },
  {
   "cell_type": "markdown",
   "metadata": {},
   "source": [
    "#### 3.1 Análise Gráfica"
   ]
  },
  {
   "cell_type": "markdown",
   "metadata": {},
   "source": [
    "Utilizaremos essa seção para realizar validação de algumas hipóteses em relação ao problema em questão. Outras poderão ser validadas no estudo do modelo final.\n",
    "\n",
    "Por se tratar de uma doença, podemos questionar a priori quais características um indíviduo tem que podem agravar ou não a transmissão ou contágio da doença.\n",
    "\n",
    "O problema não especifica de qual o vírus é transmitido para outras pessoas (por vias aéreas como a gripe e o corona por exemplo), mas pelas variáveis, podemos ter uma ideia de que proximidade possa ser um fator agravante. Portanto:\n",
    "\n",
    "- 1. Pessoas que se veêm com frequência podem ter uma taxa de contagio/transmissão maior.\n",
    "- 2. Pessoas mais velhas podem ser mais propícias a serem contaminadas.\n",
    "- 3. Pessoas com IMC muito alto ou muito baixo podem acarretar em contágio mais acentuado.\n",
    "- 4. Pessoas que utilizam taxi ou transporte público podem ter uma probabilidade maior de transmissão/contágio que as outras.\n",
    "\n"
   ]
  },
  {
   "cell_type": "code",
   "execution_count": 25,
   "metadata": {
    "ExecuteTime": {
     "end_time": "2020-10-23T17:17:00.536358Z",
     "start_time": "2020-10-23T17:16:59.877322Z"
    }
   },
   "outputs": [
    {
     "data": {
      "image/png": "[encoded data removed]",
      "text/plain": [
       "<Figure size 842.4x595.44 with 1 Axes>"
      ]
     },
     "metadata": {
      "needs_background": "light"
     },
     "output_type": "display_data"
    }
   ],
   "source": [
    "a4_dims = (11.7, 8.27)\n",
    "fig, ax = plt.subplots(figsize=a4_dims)\n",
    "\n",
    "utils.plotting_categories(connections, 'proximidade')"
   ]
  },
  {
   "cell_type": "markdown",
   "metadata": {},
   "source": [
    "As distribuições das categorias de proximidade em relação a taxa de contágio resulta em:\n",
    "\n",
    "- Quem mora junto tem em média uma probabilidade de contágio muito menor do que quem se vê casualmente. Geralmente, o oposto seria a hipótese mais aceita.\n",
    "\n",
    "- Visita Casual apresenta uma distribuição praticamente bimodal e é a que apresenta a maior concentração de taxas elevadas dentre as 4 categorias de proximidade.    "
   ]
  },
  {
   "cell_type": "code",
   "execution_count": 26,
   "metadata": {
    "ExecuteTime": {
     "end_time": "2020-10-23T17:17:00.609484Z",
     "start_time": "2020-10-23T17:17:00.538323Z"
    }
   },
   "outputs": [],
   "source": [
    "casual = df[df['proximidade']=='visita_casual']\n",
    "mora_junto = df[df['proximidade']=='mora_junto']"
   ]
  },
  {
   "cell_type": "code",
   "execution_count": 27,
   "metadata": {
    "ExecuteTime": {
     "end_time": "2020-10-23T17:17:00.664156Z",
     "start_time": "2020-10-23T17:17:00.611333Z"
    }
   },
   "outputs": [
    {
     "data": {
      "text/plain": [
       "count    150365.000000\n",
       "mean          0.571399\n",
       "std           0.154709\n",
       "min           0.163618\n",
       "25%           0.460240\n",
       "50%           0.574924\n",
       "75%           0.686536\n",
       "max           0.942245\n",
       "Name: prob_V1_V2, dtype: float64"
      ]
     },
     "execution_count": 27,
     "metadata": {},
     "output_type": "execute_result"
    }
   ],
   "source": [
    "casual['prob_V1_V2'].describe()"
   ]
  },
  {
   "cell_type": "code",
   "execution_count": 28,
   "metadata": {
    "ExecuteTime": {
     "end_time": "2020-10-23T17:17:00.760620Z",
     "start_time": "2020-10-23T17:17:00.667144Z"
    }
   },
   "outputs": [
    {
     "data": {
      "text/plain": [
       "count    49891.000000\n",
       "mean         0.382328\n",
       "std          0.149380\n",
       "min          0.074913\n",
       "25%          0.268216\n",
       "50%          0.371606\n",
       "75%          0.483781\n",
       "max          0.868571\n",
       "Name: prob_V1_V2, dtype: float64"
      ]
     },
     "execution_count": 28,
     "metadata": {},
     "output_type": "execute_result"
    }
   ],
   "source": [
    "mora_junto['prob_V1_V2'].describe()"
   ]
  },
  {
   "cell_type": "markdown",
   "metadata": {},
   "source": [
    "Em média, quem mora junto tem uma probabilidade de transmissão de 38%, enquanto quem se ve casualmente tem esse valor em 57% (detalhe que ambos possuem desvio padrão similiar). Portanto, a hipótese de contato com maior frequência influênciar na maior transmissão do virus não é tão valida, visto também o ranking das médias das proximidades (visita_casual > frequênte > rara > morar_junto)."
   ]
  },
  {
   "cell_type": "markdown",
   "metadata": {},
   "source": [
    "Em seguida, temos a hipótese de que conexões de trabalho possam ter uma taxa maior do que amigos e familia, uma vez que essas conexões tendem a ter mais contato com diversas pessoas da empresa."
   ]
  },
  {
   "cell_type": "code",
   "execution_count": 29,
   "metadata": {
    "ExecuteTime": {
     "end_time": "2020-10-23T17:17:01.445436Z",
     "start_time": "2020-10-23T17:17:00.763621Z"
    }
   },
   "outputs": [
    {
     "data": {
      "image/png": "[encoded data removed]",
      "text/plain": [
       "<Figure size 842.4x595.44 with 1 Axes>"
      ]
     },
     "metadata": {
      "needs_background": "light"
     },
     "output_type": "display_data"
    }
   ],
   "source": [
    "a4_dims = (11.7, 8.27)\n",
    "\n",
    "fig, ax = plt.subplots(figsize=a4_dims)\n",
    "\n",
    "utils.plotting_categories(connections, 'grau')"
   ]
  },
  {
   "cell_type": "markdown",
   "metadata": {},
   "source": [
    "As distribuições das categorias de proximidade em relação a taxa de contágio resulta em:\n",
    "\n",
    "- Amigos e Trabalho tem taxas similares mas com formatos de distribuição diferentes.\n",
    "- Conexões de família tem taxas de contagio menores se comparada aos outros dois grupos."
   ]
  },
  {
   "cell_type": "code",
   "execution_count": 30,
   "metadata": {
    "ExecuteTime": {
     "end_time": "2020-10-23T17:17:01.568441Z",
     "start_time": "2020-10-23T17:17:01.447437Z"
    }
   },
   "outputs": [],
   "source": [
    "amigos = df[df['grau']=='amigos']\n",
    "trabalho = df[df['grau']=='trabalho']\n",
    "familia = df[df['grau']=='familia']"
   ]
  },
  {
   "cell_type": "code",
   "execution_count": 31,
   "metadata": {
    "ExecuteTime": {
     "end_time": "2020-10-23T17:17:01.591439Z",
     "start_time": "2020-10-23T17:17:01.570436Z"
    }
   },
   "outputs": [
    {
     "data": {
      "text/plain": [
       "count    166437.000000\n",
       "mean          0.512242\n",
       "std           0.158313\n",
       "min           0.099979\n",
       "25%           0.393160\n",
       "50%           0.515072\n",
       "75%           0.629889\n",
       "max           0.925766\n",
       "Name: prob_V1_V2, dtype: float64"
      ]
     },
     "execution_count": 31,
     "metadata": {},
     "output_type": "execute_result"
    }
   ],
   "source": [
    "amigos['prob_V1_V2'].describe()"
   ]
  },
  {
   "cell_type": "code",
   "execution_count": 32,
   "metadata": {
    "ExecuteTime": {
     "end_time": "2020-10-23T17:17:01.668443Z",
     "start_time": "2020-10-23T17:17:01.593436Z"
    }
   },
   "outputs": [
    {
     "data": {
      "text/plain": [
       "count    166953.000000\n",
       "mean          0.511592\n",
       "std           0.152077\n",
       "min           0.123167\n",
       "25%           0.397271\n",
       "50%           0.514113\n",
       "75%           0.630288\n",
       "max           0.907455\n",
       "Name: prob_V1_V2, dtype: float64"
      ]
     },
     "execution_count": 32,
     "metadata": {},
     "output_type": "execute_result"
    }
   ],
   "source": [
    "trabalho['prob_V1_V2'].describe()"
   ]
  },
  {
   "cell_type": "code",
   "execution_count": 33,
   "metadata": {
    "ExecuteTime": {
     "end_time": "2020-10-23T17:17:01.741439Z",
     "start_time": "2020-10-23T17:17:01.673439Z"
    }
   },
   "outputs": [
    {
     "data": {
      "text/plain": [
       "count    166609.000000\n",
       "mean          0.431625\n",
       "std           0.195729\n",
       "min           0.074462\n",
       "25%           0.276380\n",
       "50%           0.407497\n",
       "75%           0.576753\n",
       "max           0.942245\n",
       "Name: prob_V1_V2, dtype: float64"
      ]
     },
     "execution_count": 33,
     "metadata": {},
     "output_type": "execute_result"
    }
   ],
   "source": [
    "familia['prob_V1_V2'].describe()"
   ]
  },
  {
   "cell_type": "markdown",
   "metadata": {},
   "source": [
    "Vemos que trabalho e amigos tem distribuição muito similar, tanto que suas médias, mediana e desvio padrão estão muito próximos, ao contrário do grupo de família.\n",
    "\n",
    "Por fim, podemos ver que esses dois grupos tem magnitudes bastante parecidos em relação a taxa de contaminação."
   ]
  },
  {
   "cell_type": "markdown",
   "metadata": {},
   "source": [
    "### Juntando os Datasets \"individual\" x \"connections\""
   ]
  },
  {
   "cell_type": "markdown",
   "metadata": {},
   "source": [
    "Vamos juntar os datasets em um só para o prosseguir com a análise e modelagem futura. O intuito é ter ambas características do individuo contaminado e do que foi contaminado numa linha só, e utilizar esses dados para ponderar qual combinação de variáveis influência na taxa de contaminação."
   ]
  },
  {
   "cell_type": "code",
   "execution_count": 34,
   "metadata": {
    "ExecuteTime": {
     "end_time": "2020-10-23T17:17:07.159438Z",
     "start_time": "2020-10-23T17:17:01.743437Z"
    }
   },
   "outputs": [],
   "source": [
    "\"\"\"\n",
    " O intuito é abribuir as características de ambos V1 e V2 numa única linha.\n",
    " Para isso, duplicaremos o dataset \"individual\" e renomearemos suas categorias e colunas para que as informações \n",
    " estejam devidamente claras. \n",
    "\"\"\"\n",
    "\n",
    "ind_V1 = individual.copy()\n",
    "ind_V2 = individual.copy()\n",
    "\n",
    "to_categorize = individual.select_dtypes(include='object')  \n",
    "\n",
    "# Aplica o sufixo de identificação em cada variável\n",
    "ind_V1 = utils.rename_category(ind_V1, to_categorize, '_V1')\n",
    "ind_V2 = utils.rename_category(ind_V2, to_categorize, '_V2')"
   ]
  },
  {
   "cell_type": "markdown",
   "metadata": {},
   "source": [
    "Visual dos novos datasets:"
   ]
  },
  {
   "cell_type": "code",
   "execution_count": 35,
   "metadata": {
    "ExecuteTime": {
     "end_time": "2020-10-23T17:17:07.184436Z",
     "start_time": "2020-10-23T17:17:07.162438Z"
    }
   },
   "outputs": [
    {
     "data": {
      "text/html": [
       "<div>\n",
       "<style scoped>\n",
       "    .dataframe tbody tr th:only-of-type {\n",
       "        vertical-align: middle;\n",
       "    }\n",
       "\n",
       "    .dataframe tbody tr th {\n",
       "        vertical-align: top;\n",
       "    }\n",
       "\n",
       "    .dataframe thead th {\n",
       "        text-align: right;\n",
       "    }\n",
       "</style>\n",
       "<table border=\"1\" class=\"dataframe\">\n",
       "  <thead>\n",
       "    <tr style=\"text-align: right;\">\n",
       "      <th></th>\n",
       "      <th>name</th>\n",
       "      <th>estado_civil</th>\n",
       "      <th>estuda</th>\n",
       "      <th>trabalha</th>\n",
       "      <th>pratica_esportes</th>\n",
       "      <th>transporte_mais_utilizado</th>\n",
       "      <th>filhos_status</th>\n",
       "      <th>status_IMC</th>\n",
       "      <th>faixa_etaria</th>\n",
       "    </tr>\n",
       "  </thead>\n",
       "  <tbody>\n",
       "    <tr>\n",
       "      <th>0</th>\n",
       "      <td>1</td>\n",
       "      <td>divorciado_V1</td>\n",
       "      <td>estuda_V1</td>\n",
       "      <td>nao_trabalha_V1</td>\n",
       "      <td>pratica_esportes_V1</td>\n",
       "      <td>publico_V1</td>\n",
       "      <td>filhos_V1</td>\n",
       "      <td>adequado_V1</td>\n",
       "      <td>35_44_anos_V1</td>\n",
       "    </tr>\n",
       "    <tr>\n",
       "      <th>1</th>\n",
       "      <td>2</td>\n",
       "      <td>casado_V1</td>\n",
       "      <td>nao_estuda_V1</td>\n",
       "      <td>nao_trabalha_V1</td>\n",
       "      <td>pratica_esportes_V1</td>\n",
       "      <td>publico_V1</td>\n",
       "      <td>sem_filhos_V1</td>\n",
       "      <td>acima_V1</td>\n",
       "      <td>18_24_anos_V1</td>\n",
       "    </tr>\n",
       "    <tr>\n",
       "      <th>2</th>\n",
       "      <td>3</td>\n",
       "      <td>solteiro_V1</td>\n",
       "      <td>nao_estuda_V1</td>\n",
       "      <td>nao_trabalha_V1</td>\n",
       "      <td>pratica_esportes_V1</td>\n",
       "      <td>particular_V1</td>\n",
       "      <td>filhos_V1</td>\n",
       "      <td>adequado_V1</td>\n",
       "      <td>35_44_anos_V1</td>\n",
       "    </tr>\n",
       "    <tr>\n",
       "      <th>3</th>\n",
       "      <td>4</td>\n",
       "      <td>casado_V1</td>\n",
       "      <td>estuda_V1</td>\n",
       "      <td>trabalha_V1</td>\n",
       "      <td>nao_pratica_esportes_V1</td>\n",
       "      <td>publico_V1</td>\n",
       "      <td>filhos_V1</td>\n",
       "      <td>acima_V1</td>\n",
       "      <td>45_54_anos_V1</td>\n",
       "    </tr>\n",
       "    <tr>\n",
       "      <th>4</th>\n",
       "      <td>5</td>\n",
       "      <td>solteiro_V1</td>\n",
       "      <td>estuda_V1</td>\n",
       "      <td>nao_trabalha_V1</td>\n",
       "      <td>pratica_esportes_V1</td>\n",
       "      <td>publico_V1</td>\n",
       "      <td>filhos_V1</td>\n",
       "      <td>muito_abaixo_V1</td>\n",
       "      <td>25_34_anos_V1</td>\n",
       "    </tr>\n",
       "  </tbody>\n",
       "</table>\n",
       "</div>"
      ],
      "text/plain": [
       "   name   estado_civil         estuda         trabalha  \\\n",
       "0     1  divorciado_V1      estuda_V1  nao_trabalha_V1   \n",
       "1     2      casado_V1  nao_estuda_V1  nao_trabalha_V1   \n",
       "2     3    solteiro_V1  nao_estuda_V1  nao_trabalha_V1   \n",
       "3     4      casado_V1      estuda_V1      trabalha_V1   \n",
       "4     5    solteiro_V1      estuda_V1  nao_trabalha_V1   \n",
       "\n",
       "          pratica_esportes transporte_mais_utilizado  filhos_status  \\\n",
       "0      pratica_esportes_V1                publico_V1      filhos_V1   \n",
       "1      pratica_esportes_V1                publico_V1  sem_filhos_V1   \n",
       "2      pratica_esportes_V1             particular_V1      filhos_V1   \n",
       "3  nao_pratica_esportes_V1                publico_V1      filhos_V1   \n",
       "4      pratica_esportes_V1                publico_V1      filhos_V1   \n",
       "\n",
       "        status_IMC   faixa_etaria  \n",
       "0      adequado_V1  35_44_anos_V1  \n",
       "1         acima_V1  18_24_anos_V1  \n",
       "2      adequado_V1  35_44_anos_V1  \n",
       "3         acima_V1  45_54_anos_V1  \n",
       "4  muito_abaixo_V1  25_34_anos_V1  "
      ]
     },
     "execution_count": 35,
     "metadata": {},
     "output_type": "execute_result"
    }
   ],
   "source": [
    "ind_V1.head()"
   ]
  },
  {
   "cell_type": "code",
   "execution_count": 36,
   "metadata": {
    "ExecuteTime": {
     "end_time": "2020-10-23T17:17:07.319090Z",
     "start_time": "2020-10-23T17:17:07.186438Z"
    }
   },
   "outputs": [
    {
     "data": {
      "text/html": [
       "<div>\n",
       "<style scoped>\n",
       "    .dataframe tbody tr th:only-of-type {\n",
       "        vertical-align: middle;\n",
       "    }\n",
       "\n",
       "    .dataframe tbody tr th {\n",
       "        vertical-align: top;\n",
       "    }\n",
       "\n",
       "    .dataframe thead th {\n",
       "        text-align: right;\n",
       "    }\n",
       "</style>\n",
       "<table border=\"1\" class=\"dataframe\">\n",
       "  <thead>\n",
       "    <tr style=\"text-align: right;\">\n",
       "      <th></th>\n",
       "      <th>name</th>\n",
       "      <th>estado_civil</th>\n",
       "      <th>estuda</th>\n",
       "      <th>trabalha</th>\n",
       "      <th>pratica_esportes</th>\n",
       "      <th>transporte_mais_utilizado</th>\n",
       "      <th>filhos_status</th>\n",
       "      <th>status_IMC</th>\n",
       "      <th>faixa_etaria</th>\n",
       "    </tr>\n",
       "  </thead>\n",
       "  <tbody>\n",
       "    <tr>\n",
       "      <th>0</th>\n",
       "      <td>1</td>\n",
       "      <td>divorciado_V2</td>\n",
       "      <td>estuda_V2</td>\n",
       "      <td>nao_trabalha_V2</td>\n",
       "      <td>pratica_esportes_V2</td>\n",
       "      <td>publico_V2</td>\n",
       "      <td>filhos_V2</td>\n",
       "      <td>adequado_V2</td>\n",
       "      <td>35_44_anos_V2</td>\n",
       "    </tr>\n",
       "    <tr>\n",
       "      <th>1</th>\n",
       "      <td>2</td>\n",
       "      <td>casado_V2</td>\n",
       "      <td>nao_estuda_V2</td>\n",
       "      <td>nao_trabalha_V2</td>\n",
       "      <td>pratica_esportes_V2</td>\n",
       "      <td>publico_V2</td>\n",
       "      <td>sem_filhos_V2</td>\n",
       "      <td>acima_V2</td>\n",
       "      <td>18_24_anos_V2</td>\n",
       "    </tr>\n",
       "    <tr>\n",
       "      <th>2</th>\n",
       "      <td>3</td>\n",
       "      <td>solteiro_V2</td>\n",
       "      <td>nao_estuda_V2</td>\n",
       "      <td>nao_trabalha_V2</td>\n",
       "      <td>pratica_esportes_V2</td>\n",
       "      <td>particular_V2</td>\n",
       "      <td>filhos_V2</td>\n",
       "      <td>adequado_V2</td>\n",
       "      <td>35_44_anos_V2</td>\n",
       "    </tr>\n",
       "    <tr>\n",
       "      <th>3</th>\n",
       "      <td>4</td>\n",
       "      <td>casado_V2</td>\n",
       "      <td>estuda_V2</td>\n",
       "      <td>trabalha_V2</td>\n",
       "      <td>nao_pratica_esportes_V2</td>\n",
       "      <td>publico_V2</td>\n",
       "      <td>filhos_V2</td>\n",
       "      <td>acima_V2</td>\n",
       "      <td>45_54_anos_V2</td>\n",
       "    </tr>\n",
       "    <tr>\n",
       "      <th>4</th>\n",
       "      <td>5</td>\n",
       "      <td>solteiro_V2</td>\n",
       "      <td>estuda_V2</td>\n",
       "      <td>nao_trabalha_V2</td>\n",
       "      <td>pratica_esportes_V2</td>\n",
       "      <td>publico_V2</td>\n",
       "      <td>filhos_V2</td>\n",
       "      <td>muito_abaixo_V2</td>\n",
       "      <td>25_34_anos_V2</td>\n",
       "    </tr>\n",
       "  </tbody>\n",
       "</table>\n",
       "</div>"
      ],
      "text/plain": [
       "   name   estado_civil         estuda         trabalha  \\\n",
       "0     1  divorciado_V2      estuda_V2  nao_trabalha_V2   \n",
       "1     2      casado_V2  nao_estuda_V2  nao_trabalha_V2   \n",
       "2     3    solteiro_V2  nao_estuda_V2  nao_trabalha_V2   \n",
       "3     4      casado_V2      estuda_V2      trabalha_V2   \n",
       "4     5    solteiro_V2      estuda_V2  nao_trabalha_V2   \n",
       "\n",
       "          pratica_esportes transporte_mais_utilizado  filhos_status  \\\n",
       "0      pratica_esportes_V2                publico_V2      filhos_V2   \n",
       "1      pratica_esportes_V2                publico_V2  sem_filhos_V2   \n",
       "2      pratica_esportes_V2             particular_V2      filhos_V2   \n",
       "3  nao_pratica_esportes_V2                publico_V2      filhos_V2   \n",
       "4      pratica_esportes_V2                publico_V2      filhos_V2   \n",
       "\n",
       "        status_IMC   faixa_etaria  \n",
       "0      adequado_V2  35_44_anos_V2  \n",
       "1         acima_V2  18_24_anos_V2  \n",
       "2      adequado_V2  35_44_anos_V2  \n",
       "3         acima_V2  45_54_anos_V2  \n",
       "4  muito_abaixo_V2  25_34_anos_V2  "
      ]
     },
     "execution_count": 36,
     "metadata": {},
     "output_type": "execute_result"
    }
   ],
   "source": [
    "ind_V2.head()"
   ]
  },
  {
   "cell_type": "code",
   "execution_count": 37,
   "metadata": {
    "ExecuteTime": {
     "end_time": "2020-10-23T17:17:07.691089Z",
     "start_time": "2020-10-23T17:17:07.321088Z"
    }
   },
   "outputs": [],
   "source": [
    "# Aplicando o sufixo nas colunas de cada dataset.\n",
    "ind_V1.columns = [str(col) + '_V1' for col in ind_V1.columns]\n",
    "ind_V2.columns = [str(col) + '_V2' for col in ind_V2.columns]\n",
    "\n",
    "# Criando chave para join no dataset \"connections\" para V1 e V2.\n",
    "ind_V1['V1'] = ind_V1['name_V1']\n",
    "ind_V2['V2'] = ind_V2['name_V2']\n",
    "\n",
    "ind_V1.drop('name_V1', axis=1, inplace=True)\n",
    "ind_V2.drop('name_V2', axis=1, inplace=True)"
   ]
  },
  {
   "cell_type": "code",
   "execution_count": 38,
   "metadata": {
    "ExecuteTime": {
     "end_time": "2020-10-23T17:17:09.496089Z",
     "start_time": "2020-10-23T17:17:07.701089Z"
    }
   },
   "outputs": [],
   "source": [
    "df = df.merge(ind_V1, on='V1', how='left')\n",
    "df = df.merge(ind_V2, on='V2', how='left')\n",
    "\n",
    "df.dropna(inplace=True)"
   ]
  },
  {
   "cell_type": "code",
   "execution_count": 39,
   "metadata": {
    "ExecuteTime": {
     "end_time": "2020-10-23T17:17:09.527090Z",
     "start_time": "2020-10-23T17:17:09.498090Z"
    }
   },
   "outputs": [
    {
     "data": {
      "text/html": [
       "<div>\n",
       "<style scoped>\n",
       "    .dataframe tbody tr th:only-of-type {\n",
       "        vertical-align: middle;\n",
       "    }\n",
       "\n",
       "    .dataframe tbody tr th {\n",
       "        vertical-align: top;\n",
       "    }\n",
       "\n",
       "    .dataframe thead th {\n",
       "        text-align: right;\n",
       "    }\n",
       "</style>\n",
       "<table border=\"1\" class=\"dataframe\">\n",
       "  <thead>\n",
       "    <tr style=\"text-align: right;\">\n",
       "      <th></th>\n",
       "      <th>V1</th>\n",
       "      <th>V2</th>\n",
       "      <th>grau</th>\n",
       "      <th>proximidade</th>\n",
       "      <th>prob_V1_V2</th>\n",
       "      <th>estado_civil_V1</th>\n",
       "      <th>estuda_V1</th>\n",
       "      <th>trabalha_V1</th>\n",
       "      <th>pratica_esportes_V1</th>\n",
       "      <th>transporte_mais_utilizado_V1</th>\n",
       "      <th>...</th>\n",
       "      <th>status_IMC_V1</th>\n",
       "      <th>faixa_etaria_V1</th>\n",
       "      <th>estado_civil_V2</th>\n",
       "      <th>estuda_V2</th>\n",
       "      <th>trabalha_V2</th>\n",
       "      <th>pratica_esportes_V2</th>\n",
       "      <th>transporte_mais_utilizado_V2</th>\n",
       "      <th>filhos_status_V2</th>\n",
       "      <th>status_IMC_V2</th>\n",
       "      <th>faixa_etaria_V2</th>\n",
       "    </tr>\n",
       "  </thead>\n",
       "  <tbody>\n",
       "    <tr>\n",
       "      <th>0</th>\n",
       "      <td>1</td>\n",
       "      <td>2</td>\n",
       "      <td>trabalho</td>\n",
       "      <td>visita_frequente</td>\n",
       "      <td>0.589462</td>\n",
       "      <td>divorciado_V1</td>\n",
       "      <td>estuda_V1</td>\n",
       "      <td>nao_trabalha_V1</td>\n",
       "      <td>pratica_esportes_V1</td>\n",
       "      <td>publico_V1</td>\n",
       "      <td>...</td>\n",
       "      <td>adequado_V1</td>\n",
       "      <td>35_44_anos_V1</td>\n",
       "      <td>casado_V2</td>\n",
       "      <td>nao_estuda_V2</td>\n",
       "      <td>nao_trabalha_V2</td>\n",
       "      <td>pratica_esportes_V2</td>\n",
       "      <td>publico_V2</td>\n",
       "      <td>sem_filhos_V2</td>\n",
       "      <td>acima_V2</td>\n",
       "      <td>18_24_anos_V2</td>\n",
       "    </tr>\n",
       "    <tr>\n",
       "      <th>1</th>\n",
       "      <td>1</td>\n",
       "      <td>3</td>\n",
       "      <td>trabalho</td>\n",
       "      <td>visita_rara</td>\n",
       "      <td>0.708465</td>\n",
       "      <td>divorciado_V1</td>\n",
       "      <td>estuda_V1</td>\n",
       "      <td>nao_trabalha_V1</td>\n",
       "      <td>pratica_esportes_V1</td>\n",
       "      <td>publico_V1</td>\n",
       "      <td>...</td>\n",
       "      <td>adequado_V1</td>\n",
       "      <td>35_44_anos_V1</td>\n",
       "      <td>solteiro_V2</td>\n",
       "      <td>nao_estuda_V2</td>\n",
       "      <td>nao_trabalha_V2</td>\n",
       "      <td>pratica_esportes_V2</td>\n",
       "      <td>particular_V2</td>\n",
       "      <td>filhos_V2</td>\n",
       "      <td>adequado_V2</td>\n",
       "      <td>35_44_anos_V2</td>\n",
       "    </tr>\n",
       "    <tr>\n",
       "      <th>2</th>\n",
       "      <td>2</td>\n",
       "      <td>5</td>\n",
       "      <td>trabalho</td>\n",
       "      <td>visita_rara</td>\n",
       "      <td>0.638842</td>\n",
       "      <td>casado_V1</td>\n",
       "      <td>nao_estuda_V1</td>\n",
       "      <td>nao_trabalha_V1</td>\n",
       "      <td>pratica_esportes_V1</td>\n",
       "      <td>publico_V1</td>\n",
       "      <td>...</td>\n",
       "      <td>acima_V1</td>\n",
       "      <td>18_24_anos_V1</td>\n",
       "      <td>solteiro_V2</td>\n",
       "      <td>estuda_V2</td>\n",
       "      <td>nao_trabalha_V2</td>\n",
       "      <td>pratica_esportes_V2</td>\n",
       "      <td>publico_V2</td>\n",
       "      <td>filhos_V2</td>\n",
       "      <td>muito_abaixo_V2</td>\n",
       "      <td>25_34_anos_V2</td>\n",
       "    </tr>\n",
       "    <tr>\n",
       "      <th>3</th>\n",
       "      <td>3</td>\n",
       "      <td>7</td>\n",
       "      <td>familia</td>\n",
       "      <td>visita_casual</td>\n",
       "      <td>0.709608</td>\n",
       "      <td>solteiro_V1</td>\n",
       "      <td>nao_estuda_V1</td>\n",
       "      <td>nao_trabalha_V1</td>\n",
       "      <td>pratica_esportes_V1</td>\n",
       "      <td>particular_V1</td>\n",
       "      <td>...</td>\n",
       "      <td>adequado_V1</td>\n",
       "      <td>35_44_anos_V1</td>\n",
       "      <td>solteiro_V2</td>\n",
       "      <td>estuda_V2</td>\n",
       "      <td>trabalha_V2</td>\n",
       "      <td>pratica_esportes_V2</td>\n",
       "      <td>particular_V2</td>\n",
       "      <td>filhos_V2</td>\n",
       "      <td>adequado_V2</td>\n",
       "      <td>55_64_anos_V2</td>\n",
       "    </tr>\n",
       "    <tr>\n",
       "      <th>4</th>\n",
       "      <td>4</td>\n",
       "      <td>9</td>\n",
       "      <td>amigos</td>\n",
       "      <td>visita_casual</td>\n",
       "      <td>0.465209</td>\n",
       "      <td>casado_V1</td>\n",
       "      <td>estuda_V1</td>\n",
       "      <td>trabalha_V1</td>\n",
       "      <td>nao_pratica_esportes_V1</td>\n",
       "      <td>publico_V1</td>\n",
       "      <td>...</td>\n",
       "      <td>acima_V1</td>\n",
       "      <td>45_54_anos_V1</td>\n",
       "      <td>divorciado_V2</td>\n",
       "      <td>nao_estuda_V2</td>\n",
       "      <td>trabalha_V2</td>\n",
       "      <td>sem_info_pratica_esportes_V2</td>\n",
       "      <td>publico_V2</td>\n",
       "      <td>filhos_V2</td>\n",
       "      <td>obsidade_III_V2</td>\n",
       "      <td>35_44_anos_V2</td>\n",
       "    </tr>\n",
       "  </tbody>\n",
       "</table>\n",
       "<p>5 rows × 21 columns</p>\n",
       "</div>"
      ],
      "text/plain": [
       "   V1  V2      grau       proximidade  prob_V1_V2 estado_civil_V1  \\\n",
       "0   1   2  trabalho  visita_frequente    0.589462   divorciado_V1   \n",
       "1   1   3  trabalho       visita_rara    0.708465   divorciado_V1   \n",
       "2   2   5  trabalho       visita_rara    0.638842       casado_V1   \n",
       "3   3   7   familia     visita_casual    0.709608     solteiro_V1   \n",
       "4   4   9    amigos     visita_casual    0.465209       casado_V1   \n",
       "\n",
       "       estuda_V1      trabalha_V1      pratica_esportes_V1  \\\n",
       "0      estuda_V1  nao_trabalha_V1      pratica_esportes_V1   \n",
       "1      estuda_V1  nao_trabalha_V1      pratica_esportes_V1   \n",
       "2  nao_estuda_V1  nao_trabalha_V1      pratica_esportes_V1   \n",
       "3  nao_estuda_V1  nao_trabalha_V1      pratica_esportes_V1   \n",
       "4      estuda_V1      trabalha_V1  nao_pratica_esportes_V1   \n",
       "\n",
       "  transporte_mais_utilizado_V1  ... status_IMC_V1 faixa_etaria_V1  \\\n",
       "0                   publico_V1  ...   adequado_V1   35_44_anos_V1   \n",
       "1                   publico_V1  ...   adequado_V1   35_44_anos_V1   \n",
       "2                   publico_V1  ...      acima_V1   18_24_anos_V1   \n",
       "3                particular_V1  ...   adequado_V1   35_44_anos_V1   \n",
       "4                   publico_V1  ...      acima_V1   45_54_anos_V1   \n",
       "\n",
       "  estado_civil_V2      estuda_V2      trabalha_V2  \\\n",
       "0       casado_V2  nao_estuda_V2  nao_trabalha_V2   \n",
       "1     solteiro_V2  nao_estuda_V2  nao_trabalha_V2   \n",
       "2     solteiro_V2      estuda_V2  nao_trabalha_V2   \n",
       "3     solteiro_V2      estuda_V2      trabalha_V2   \n",
       "4   divorciado_V2  nao_estuda_V2      trabalha_V2   \n",
       "\n",
       "            pratica_esportes_V2 transporte_mais_utilizado_V2 filhos_status_V2  \\\n",
       "0           pratica_esportes_V2                   publico_V2    sem_filhos_V2   \n",
       "1           pratica_esportes_V2                particular_V2        filhos_V2   \n",
       "2           pratica_esportes_V2                   publico_V2        filhos_V2   \n",
       "3           pratica_esportes_V2                particular_V2        filhos_V2   \n",
       "4  sem_info_pratica_esportes_V2                   publico_V2        filhos_V2   \n",
       "\n",
       "     status_IMC_V2 faixa_etaria_V2  \n",
       "0         acima_V2   18_24_anos_V2  \n",
       "1      adequado_V2   35_44_anos_V2  \n",
       "2  muito_abaixo_V2   25_34_anos_V2  \n",
       "3      adequado_V2   55_64_anos_V2  \n",
       "4  obsidade_III_V2   35_44_anos_V2  \n",
       "\n",
       "[5 rows x 21 columns]"
      ]
     },
     "execution_count": 39,
     "metadata": {},
     "output_type": "execute_result"
    }
   ],
   "source": [
    "df.head()"
   ]
  },
  {
   "cell_type": "markdown",
   "metadata": {},
   "source": [
    "### 5. Modelagem\n",
    "#### 5.1 Pré-Processamento"
   ]
  },
  {
   "cell_type": "markdown",
   "metadata": {},
   "source": [
    "É necessário aplicar o one-hot-encoding nas variáveis categóricas para que o input no modelo seja totalmente numérico."
   ]
  },
  {
   "cell_type": "code",
   "execution_count": 40,
   "metadata": {
    "ExecuteTime": {
     "end_time": "2020-10-23T17:17:14.107122Z",
     "start_time": "2020-10-23T17:17:09.529088Z"
    }
   },
   "outputs": [],
   "source": [
    "to_dummy = df.select_dtypes(include='object')\n",
    "df = utils.one_hot_encoder(df, to_dummy)\n",
    "df.dropna(inplace=True)"
   ]
  },
  {
   "cell_type": "markdown",
   "metadata": {},
   "source": [
    "Além disso, precisamos excluir uma categoria de cada variável categórica pois:\n",
    "\n",
    "- Uma das categorias precisa ser a categoria de referência (quando X = 0).\n",
    "- A matriz das variáveis independentes precisa ser Linearmente Independente. Aplicar todas as variáveis faz com que ela se torne LD."
   ]
  },
  {
   "cell_type": "code",
   "execution_count": 41,
   "metadata": {
    "ExecuteTime": {
     "end_time": "2020-10-23T17:17:14.164092Z",
     "start_time": "2020-10-23T17:17:14.109087Z"
    },
    "scrolled": true
   },
   "outputs": [],
   "source": [
    "to_drop_ld = ['taxi_V1', 'taxi_V2',\n",
    "            'familia', 'visita_rara', \n",
    "            'sem_info_filhos_V1','sem_info_filhos_V2',\n",
    "            'sem_info_estado_civil_V1', 'sem_info_estado_civil_V2',\n",
    "              'sem_info_estuda_V1', 'sem_info_estuda_V2',\n",
    "              'sem_info_trabalha_V1', 'sem_info_trabalha_V2',\n",
    "              'sem_info_pratica_esportes_V1', 'sem_info_pratica_esportes_V2',\n",
    "              'sem_info_transporte_mais_utilizado_V1', 'sem_info_transporte_mais_utilizado_V2',\n",
    "              'sem_info_filhos_V1', 'sem_info_filhos_V2', \n",
    "              'adequado_V1', 'adequado_V2', 'maior_65_V1', 'maior_65_V2'\n",
    "             ]\n",
    "\n",
    "df.drop(to_drop_ld, axis=1, inplace=True)"
   ]
  },
  {
   "cell_type": "markdown",
   "metadata": {},
   "source": [
    "Iniciaremos o processo de modelagem utilizando 3 algoritmos de regressão:\n",
    "\n",
    "- Regressão Linear\n",
    "- Regressão Ridge\n",
    "- Regressão Lasso\n",
    "\n",
    "**DISCLAIMER:** Outros algoritmos poderiam ter performance muito melhor dos que os apresentados, como o XGBoost. Mas devido a natureza do case, resolvi seguir com as estimações de modelos paramétricos por conta da sua maior \"explicabilidade\".\n",
    "\n",
    "O trade-off de algoritmos de machine learning entre acurácia x interpretação não nos permite ter insights maiores sobre como se comportam os dados conforme a complexidade aumenta. \n",
    "\n",
    "Incorporando o fato de que estamos num modelo de negócios onde precisamos comunicar descobertas para clientes (aka. funcionário da ONU que quer descobrir insights sobre a doença), as soluções das regressões paramétricas fornecem informações pontuais sobre padrões entre as variáveis dependente (taxa de contaminação) e variáveis independente que não são tão acessíveis como um eXtreme Gradient Boosting."
   ]
  },
  {
   "cell_type": "markdown",
   "metadata": {},
   "source": [
    "Para os modelos abaixo, vamos seguir com modelos com CV (cross_validation) já imbutidos. O intuito é resgatar exaustivamente o melhor hiperparâmetro alpha para regressão.\n",
    "\n",
    "Como já mencionado anteriormente, nossa função de custo será o RMSE para penalizar probabilidades muito distantes de suas estimativas pois, como funcionário da ONU, quero evitar o máximo de erros do tipo II (falso negativos) em um possível diagnóstico (caso esse problema fosse tratado como classificação)."
   ]
  },
  {
   "cell_type": "code",
   "execution_count": 42,
   "metadata": {
    "ExecuteTime": {
     "end_time": "2020-10-23T17:17:14.297122Z",
     "start_time": "2020-10-23T17:17:14.166098Z"
    }
   },
   "outputs": [],
   "source": [
    "X = df.drop(['V1', 'V2', 'prob_V1_V2'], axis=1)\n",
    "y = df['prob_V1_V2']\n"
   ]
  },
  {
   "cell_type": "code",
   "execution_count": 43,
   "metadata": {
    "ExecuteTime": {
     "end_time": "2020-10-23T17:17:14.535803Z",
     "start_time": "2020-10-23T17:17:14.299088Z"
    }
   },
   "outputs": [],
   "source": [
    "X_train, X_test, y_train, y_test = train_test_split(X, y, test_size=0.35, random_state=42)\n"
   ]
  },
  {
   "cell_type": "markdown",
   "metadata": {},
   "source": [
    "#### 5.2 Modelagem de Dados\n",
    "\n",
    "Dividi a modelagem em três processos:\n",
    "\n",
    "- A base gerada.\n",
    "- Feature Selection usando Lasso."
   ]
  },
  {
   "cell_type": "markdown",
   "metadata": {},
   "source": [
    "##### 5.2.1 Base Original\n",
    "Vemos que o algoritmo **Ridge** foi o vencedor, com o menor RMSE dentre os três."
   ]
  },
  {
   "cell_type": "code",
   "execution_count": 44,
   "metadata": {
    "ExecuteTime": {
     "end_time": "2020-10-23T17:17:15.207629Z",
     "start_time": "2020-10-23T17:17:14.538627Z"
    }
   },
   "outputs": [
    {
     "name": "stdout",
     "output_type": "stream",
     "text": [
      "Wall time: 624 ms\n"
     ]
    },
    {
     "data": {
      "text/plain": [
       "0.11610036073363705"
      ]
     },
     "execution_count": 44,
     "metadata": {},
     "output_type": "execute_result"
    }
   ],
   "source": [
    "%%time\n",
    "lr = LinearRegression()\n",
    "lr.fit(X_train,y_train)\n",
    "y_train_pred = lr.predict(X_train)\n",
    "y_test_pred = lr.predict(X_test)\n",
    "\n",
    "\n",
    "mean = mean_squared_error(y_test, y_test_pred) \n",
    "lr_rmse = np.sqrt(mean_squared_error(y_test, y_test_pred))\n",
    "lr_rmse"
   ]
  },
  {
   "cell_type": "code",
   "execution_count": 45,
   "metadata": {
    "ExecuteTime": {
     "end_time": "2020-10-23T17:18:07.875153Z",
     "start_time": "2020-10-23T17:17:15.210627Z"
    }
   },
   "outputs": [
    {
     "name": "stdout",
     "output_type": "stream",
     "text": [
      "Melhor Alpha : 30.0\n",
      "Tentando de novo com valores de alpha centrados em 30.0\n",
      "Melhor Alpha: 30.0\n",
      "Wall time: 52.7 s\n"
     ]
    },
    {
     "data": {
      "text/plain": [
       "0.11609973730298259"
      ]
     },
     "execution_count": 45,
     "metadata": {},
     "output_type": "execute_result"
    }
   ],
   "source": [
    "%%time\n",
    "\n",
    "ridge = RidgeCV(alphas = [0.0001, 0.0003, 0.06, 0.1, 0.3, 0.6, 1, 3, 6, 10, 30, 60])\n",
    "ridge.fit(X_train, y_train)\n",
    "alpha = ridge.alpha_\n",
    "print(\"Melhor Alpha :\", alpha)\n",
    "\n",
    "print(\"Tentando de novo com valores de alpha centrados em \" + str(alpha))\n",
    "ridge = RidgeCV(alphas = [alpha * .6, alpha * .65, alpha * .7, alpha * .75, alpha * .8, alpha * .85, \n",
    "                          alpha * .9, alpha * .95, alpha, alpha * 1.05, alpha * 1.1, alpha * 1.15,\n",
    "                          alpha * 1.25, alpha * 1.3, alpha * 1.35, alpha * 1.4], \n",
    "                cv = 10)\n",
    "ridge.fit(X_train, y_train)\n",
    "alpha = ridge.alpha_\n",
    "print(\"Melhor Alpha:\", alpha)\n",
    "\n",
    "\n",
    "y_train_pred = ridge.predict(X_train)\n",
    "y_test_pred = ridge.predict(X_test)\n",
    "\n",
    "\n",
    "mean = mean_squared_error(y_test, y_test_pred) \n",
    "ridge_rmse = np.sqrt(mean_squared_error(y_test, y_test_pred))\n",
    "ridge_rmse"
   ]
  },
  {
   "cell_type": "code",
   "execution_count": 46,
   "metadata": {
    "ExecuteTime": {
     "end_time": "2020-10-23T17:18:22.811154Z",
     "start_time": "2020-10-23T17:18:07.878153Z"
    }
   },
   "outputs": [
    {
     "name": "stdout",
     "output_type": "stream",
     "text": [
      "Melhor Alpha : 0.0001\n",
      "Tentando de novo com valores de alpha centrados em 0.0001\n",
      "Melhor Alpha : 6e-05\n",
      "Wall time: 14.9 s\n"
     ]
    },
    {
     "data": {
      "text/plain": [
       "0.11610624022420059"
      ]
     },
     "execution_count": 46,
     "metadata": {},
     "output_type": "execute_result"
    }
   ],
   "source": [
    "%%time\n",
    "lasso = LassoCV(alphas = [0.0001, 0.0003, 0.0006, 0.001, 0.003, 0.006, 0.01, 0.03, 0.06, 0.1, \n",
    "                          0.3, 0.6, 1], \n",
    "                max_iter = 50000, cv = 10)\n",
    "lasso.fit(X_train, y_train)\n",
    "alpha = lasso.alpha_\n",
    "print(\"Melhor Alpha :\", alpha)\n",
    "\n",
    "print(\"Tentando de novo com valores de alpha centrados em \" + str(alpha))\n",
    "lasso = LassoCV(alphas = [alpha * .6, alpha * .65, alpha * .7, alpha * .75, alpha * .8, \n",
    "                          alpha * .85, alpha * .9, alpha * .95, alpha, alpha * 1.05, \n",
    "                          alpha * 1.1, alpha * 1.15, alpha * 1.25, alpha * 1.3, alpha * 1.35, \n",
    "                          alpha * 1.4], \n",
    "                max_iter = 50000, cv = 10)\n",
    "lasso.fit(X_train, y_train)\n",
    "alpha = lasso.alpha_\n",
    "print(\"Melhor Alpha :\", alpha)\n",
    "\n",
    "\n",
    "y_train_pred = lasso.predict(X_train)\n",
    "y_test_pred = lasso.predict(X_test)\n",
    "\n",
    "\n",
    "mean = mean_squared_error(y_test, y_test_pred) \n",
    "lasso_rmse = np.sqrt(mean_squared_error(y_test, y_test_pred))\n",
    "lasso_rmse"
   ]
  },
  {
   "cell_type": "markdown",
   "metadata": {},
   "source": [
    "Analisando os coeficientes das variáveis do Ridge podemos refazer a modelagem utilizando apenas as variáveis que tem relevância."
   ]
  },
  {
   "cell_type": "code",
   "execution_count": 47,
   "metadata": {
    "ExecuteTime": {
     "end_time": "2020-10-23T17:18:23.072152Z",
     "start_time": "2020-10-23T17:18:22.814153Z"
    }
   },
   "outputs": [
    {
     "data": {
      "image/png": "[encoded data removed]",
      "text/plain": [
       "<Figure size 432x288 with 1 Axes>"
      ]
     },
     "metadata": {
      "needs_background": "light"
     },
     "output_type": "display_data"
    }
   ],
   "source": [
    "ridge_coefs = pd.Series(ridge.coef_, index = X_train.columns)\n",
    "\n",
    "\n",
    "imp_ridge_coefs = pd.concat([ridge_coefs.sort_values().head(10),\n",
    "                     ridge_coefs.sort_values().tail(10)])\n",
    "\n",
    "imp_ridge_coefs.plot(kind = \"barh\")\n",
    "plt.title(\"Coeficientes Ridge\")\n",
    "plt.show()"
   ]
  },
  {
   "cell_type": "code",
   "execution_count": 48,
   "metadata": {
    "ExecuteTime": {
     "end_time": "2020-10-23T17:18:23.089158Z",
     "start_time": "2020-10-23T17:18:23.075152Z"
    },
    "scrolled": false
   },
   "outputs": [
    {
     "data": {
      "text/plain": [
       "nao_trabalha_V1            0.131556\n",
       "visita_casual              0.125224\n",
       "nao_pratica_esportes_V1    0.113115\n",
       "viuvo_V1                   0.092891\n",
       "amigos                     0.081048\n",
       "trabalho                   0.080597\n",
       "particular_V2              0.075595\n",
       "mora_junto                 0.063306\n",
       "divorciado_V1              0.043420\n",
       "casado_V1                  0.042008\n",
       "publico_V1                 0.040217\n",
       "visita_frequente           0.039094\n",
       "publico_V2                 0.029146\n",
       "solteiro_V1                0.023154\n",
       "nao_estuda_V1              0.021499\n",
       "particular_V1              0.020411\n",
       "menor_18_V2                0.018602\n",
       "obsidade_III_V2            0.017436\n",
       "18_24_anos_V2              0.015826\n",
       "obesidade_II_V2            0.013389\n",
       "25_34_anos_V2              0.013258\n",
       "35_44_anos_V2              0.010964\n",
       "obesidade_I_V2             0.009650\n",
       "45_54_anos_V2              0.008139\n",
       "muito_abaixo_V2            0.005575\n",
       "55_64_anos_V2              0.005235\n",
       "acima_V2                   0.004736\n",
       "45_54_anos_V1              0.002965\n",
       "18_24_anos_V1              0.002662\n",
       "abaixo_V2                  0.002575\n",
       "obesidade_I_V1             0.002378\n",
       "menor_18_V1                0.002355\n",
       "25_34_anos_V1              0.001855\n",
       "obsidade_III_V1            0.001722\n",
       "55_64_anos_V1              0.001580\n",
       "divorciado_V2              0.001177\n",
       "filhos_V1                  0.001134\n",
       "casado_V2                  0.001055\n",
       "sem_filhos_V1              0.000867\n",
       "35_44_anos_V1              0.000728\n",
       "acima_V1                   0.000553\n",
       "nao_pratica_esportes_V2    0.000511\n",
       "muito_abaixo_V1            0.000369\n",
       "sem_filhos_V2              0.000334\n",
       "obesidade_II_V1            0.000318\n",
       "abaixo_V1                  0.000317\n",
       "nao_estuda_V2              0.000265\n",
       "solteiro_V2                0.000056\n",
       "viuvo_V2                   0.000033\n",
       "nao_trabalha_V2            0.000028\n",
       "filhos_V2                  0.000013\n",
       "dtype: float64"
      ]
     },
     "execution_count": 48,
     "metadata": {},
     "output_type": "execute_result"
    }
   ],
   "source": [
    "abs(ridge_coefs).sort_values(ascending=False)"
   ]
  },
  {
   "cell_type": "code",
   "execution_count": 49,
   "metadata": {
    "ExecuteTime": {
     "end_time": "2020-10-23T17:18:23.305454Z",
     "start_time": "2020-10-23T17:18:23.092153Z"
    }
   },
   "outputs": [],
   "source": [
    "ridge_relevant_columns = ridge_coefs[ridge_coefs>=0.005575].index\n",
    "\n",
    "ridge_X_train = X_train[ridge_relevant_columns]\n",
    "ridge_X_test = X_test[ridge_relevant_columns]\n"
   ]
  },
  {
   "cell_type": "code",
   "execution_count": 50,
   "metadata": {
    "ExecuteTime": {
     "end_time": "2020-10-23T17:18:28.963830Z",
     "start_time": "2020-10-23T17:18:23.308267Z"
    }
   },
   "outputs": [
    {
     "name": "stdout",
     "output_type": "stream",
     "text": [
      "Melhor Alpha : 0.0001\n",
      "Tentando de novo com valores de alpha centrados em 0.0001\n",
      "Melhor Alpha : 6e-05\n",
      "Wall time: 5.43 s\n"
     ]
    },
    {
     "data": {
      "text/plain": [
       "0.13134064774788765"
      ]
     },
     "execution_count": 50,
     "metadata": {},
     "output_type": "execute_result"
    }
   ],
   "source": [
    "%%time\n",
    "relevant = LassoCV(alphas = [0.0001, 0.0003, 0.0006, 0.001, 0.003, 0.006, 0.01, 0.03, 0.06, 0.1, \n",
    "                          0.3, 0.6, 1], \n",
    "                max_iter = 50000, cv = 10)\n",
    "relevant.fit(ridge_X_train, y_train)\n",
    "alpha = relevant.alpha_\n",
    "print(\"Melhor Alpha :\", alpha)\n",
    "\n",
    "print(\"Tentando de novo com valores de alpha centrados em \" + str(alpha))\n",
    "relevant = LassoCV(alphas = [alpha * .6, alpha * .65, alpha * .7, alpha * .75, alpha * .8, \n",
    "                          alpha * .85, alpha * .9, alpha * .95, alpha, alpha * 1.05, \n",
    "                          alpha * 1.1, alpha * 1.15, alpha * 1.25, alpha * 1.3, alpha * 1.35, \n",
    "                          alpha * 1.4], \n",
    "                max_iter = 50000, cv = 10)\n",
    "relevant.fit(ridge_X_train, y_train)\n",
    "alpha = relevant.alpha_\n",
    "print(\"Melhor Alpha :\", alpha)\n",
    "\n",
    "\n",
    "y_train_pred = relevant.predict(ridge_X_train)\n",
    "y_test_pred = relevant.predict(ridge_X_test)\n",
    "\n",
    "\n",
    "mean = mean_squared_error(y_test, y_test_pred) \n",
    "relevant_rmse = np.sqrt(mean_squared_error(y_test, y_test_pred))\n",
    "relevant_rmse"
   ]
  },
  {
   "cell_type": "markdown",
   "metadata": {},
   "source": [
    "Como podemos ver, essa tentativa não foi eficiente, visto que o RMSE foi maior do que a equação com todas as variáveis."
   ]
  },
  {
   "cell_type": "markdown",
   "metadata": {},
   "source": [
    "##### 5.2.2 Base Original com Feature Selection\n",
    "\n",
    "Vamos utilizar o objeto SelectFromModel usando Lasso como argumento para fazer a seleção de variáveis.\n",
    "Lasso tem o recurso matemático de zerar linhas que trazem informações de praticamente valor nenhum em relação a explicabilidade da variável target.\n",
    "\n",
    "Vemos que o algoritmo de Ridge foi o vencedor mais uma vez, com o menor RMSE dentre os três."
   ]
  },
  {
   "cell_type": "code",
   "execution_count": 51,
   "metadata": {
    "ExecuteTime": {
     "end_time": "2020-10-23T17:18:28.973830Z",
     "start_time": "2020-10-23T17:18:28.966829Z"
    }
   },
   "outputs": [
    {
     "name": "stdout",
     "output_type": "stream",
     "text": [
      "Número de Variáveis Original: 51\n"
     ]
    }
   ],
   "source": [
    "num_original = (X_train.shape[1])\n",
    "print('Número de Variáveis Original: {}'.format(num_original))"
   ]
  },
  {
   "cell_type": "code",
   "execution_count": 52,
   "metadata": {
    "ExecuteTime": {
     "end_time": "2020-10-23T17:18:36.505544Z",
     "start_time": "2020-10-23T17:18:28.976833Z"
    }
   },
   "outputs": [],
   "source": [
    "selector = SelectFromModel(LassoCV())\n",
    "selector.fit(X_train, y_train)\n",
    "selector.transform(X_train).shape\n",
    "\n",
    "feature_idx = selector.get_support()\n",
    "feature_name = X_train.columns[feature_idx]"
   ]
  },
  {
   "cell_type": "code",
   "execution_count": 53,
   "metadata": {
    "ExecuteTime": {
     "end_time": "2020-10-23T17:18:36.532545Z",
     "start_time": "2020-10-23T17:18:36.509543Z"
    }
   },
   "outputs": [
    {
     "name": "stdout",
     "output_type": "stream",
     "text": [
      "Número de Variáveis Original: 41\n"
     ]
    }
   ],
   "source": [
    "num_novo = (selector.transform(X_train).shape[1])\n",
    "print('Número de Variáveis Original: {}'.format(num_novo))"
   ]
  },
  {
   "cell_type": "code",
   "execution_count": 54,
   "metadata": {
    "ExecuteTime": {
     "end_time": "2020-10-23T17:18:36.648545Z",
     "start_time": "2020-10-23T17:18:36.537545Z"
    }
   },
   "outputs": [],
   "source": [
    "new_x_train = X_train[feature_name]\n",
    "new_x_test = X_test[feature_name]"
   ]
  },
  {
   "cell_type": "code",
   "execution_count": 55,
   "metadata": {
    "ExecuteTime": {
     "end_time": "2020-10-23T17:18:37.330548Z",
     "start_time": "2020-10-23T17:18:36.651544Z"
    }
   },
   "outputs": [
    {
     "name": "stdout",
     "output_type": "stream",
     "text": [
      "Wall time: 619 ms\n"
     ]
    },
    {
     "data": {
      "text/plain": [
       "0.11610013382220707"
      ]
     },
     "execution_count": 55,
     "metadata": {},
     "output_type": "execute_result"
    }
   ],
   "source": [
    "%%time\n",
    "new_lr = LinearRegression()\n",
    "new_lr.fit(new_x_train,y_train)\n",
    "y_train_pred = new_lr.predict(new_x_train)\n",
    "y_test_pred = new_lr.predict(new_x_test)\n",
    "\n",
    "\n",
    "mean = mean_squared_error(y_test, y_test_pred) \n",
    "new_lr_rmse = np.sqrt(mean_squared_error(y_test, y_test_pred))\n",
    "new_lr_rmse"
   ]
  },
  {
   "cell_type": "code",
   "execution_count": 56,
   "metadata": {
    "ExecuteTime": {
     "end_time": "2020-10-23T17:19:22.808545Z",
     "start_time": "2020-10-23T17:18:37.333546Z"
    }
   },
   "outputs": [
    {
     "name": "stdout",
     "output_type": "stream",
     "text": [
      "Melhor Alpha : 10.0\n",
      "Tentando de novo com valores de alpha centrados em 10.0\n",
      "Melhor Alpha: 14.0\n",
      "Wall time: 45.5 s\n"
     ]
    },
    {
     "data": {
      "text/plain": [
       "0.11610010141634838"
      ]
     },
     "execution_count": 56,
     "metadata": {},
     "output_type": "execute_result"
    }
   ],
   "source": [
    "%%time\n",
    "\n",
    "new_ridge = RidgeCV(alphas = [0.0001, 0.0003, 0.06, 0.1, 0.3, 0.6, 1, 3, 6, 10, 30, 60])\n",
    "new_ridge.fit(new_x_train, y_train)\n",
    "alpha = new_ridge.alpha_\n",
    "print(\"Melhor Alpha :\", alpha)\n",
    "\n",
    "print(\"Tentando de novo com valores de alpha centrados em \" + str(alpha))\n",
    "new_ridge = RidgeCV(alphas = [alpha * .6, alpha * .65, alpha * .7, alpha * .75, alpha * .8, alpha * .85, \n",
    "                          alpha * .9, alpha * .95, alpha, alpha * 1.05, alpha * 1.1, alpha * 1.15,\n",
    "                          alpha * 1.25, alpha * 1.3, alpha * 1.35, alpha * 1.4], \n",
    "                cv = 10)\n",
    "new_ridge.fit(new_x_train, y_train)\n",
    "alpha = new_ridge.alpha_\n",
    "print(\"Melhor Alpha:\", alpha)\n",
    "\n",
    "\n",
    "y_train_pred = new_ridge.predict(new_x_train)\n",
    "y_test_pred = new_ridge.predict(new_x_test)\n",
    "\n",
    "\n",
    "mean = mean_squared_error(y_test, y_test_pred) \n",
    "new_ridge_rmse = np.sqrt(mean_squared_error(y_test, y_test_pred))\n",
    "new_ridge_rmse"
   ]
  },
  {
   "cell_type": "code",
   "execution_count": 57,
   "metadata": {
    "ExecuteTime": {
     "end_time": "2020-10-23T17:19:34.318544Z",
     "start_time": "2020-10-23T17:19:22.811543Z"
    }
   },
   "outputs": [
    {
     "name": "stdout",
     "output_type": "stream",
     "text": [
      "Melhor Alpha : 0.0001\n",
      "Tentando de novo com valores de alpha centrados em 0.0001\n",
      "Melhor Alpha : 6e-05\n",
      "Wall time: 11.5 s\n"
     ]
    },
    {
     "data": {
      "text/plain": [
       "0.11610624022634802"
      ]
     },
     "execution_count": 57,
     "metadata": {},
     "output_type": "execute_result"
    }
   ],
   "source": [
    "%%time\n",
    "new_lasso = LassoCV(alphas = [0.0001, 0.0003, 0.0006, 0.001, 0.003, 0.006, 0.01, 0.03, 0.06, 0.1, \n",
    "                          0.3, 0.6, 1], \n",
    "                max_iter = 50000, cv = 10)\n",
    "new_lasso.fit(new_x_train, y_train)\n",
    "alpha = new_lasso.alpha_\n",
    "print(\"Melhor Alpha :\", alpha)\n",
    "\n",
    "print(\"Tentando de novo com valores de alpha centrados em \" + str(alpha))\n",
    "new_lasso = LassoCV(alphas = [alpha * .6, alpha * .65, alpha * .7, alpha * .75, alpha * .8, \n",
    "                          alpha * .85, alpha * .9, alpha * .95, alpha, alpha * 1.05, \n",
    "                          alpha * 1.1, alpha * 1.15, alpha * 1.25, alpha * 1.3, alpha * 1.35, \n",
    "                          alpha * 1.4], \n",
    "                max_iter = 50000, cv = 10)\n",
    "new_lasso.fit(new_x_train, y_train)\n",
    "alpha = new_lasso.alpha_\n",
    "print(\"Melhor Alpha :\", alpha)\n",
    "\n",
    "\n",
    "y_train_pred = new_lasso.predict(new_x_train)\n",
    "y_test_pred = new_lasso.predict(new_x_test)\n",
    "\n",
    "\n",
    "mean = mean_squared_error(y_test, y_test_pred) \n",
    "new_lasso_rmse = np.sqrt(mean_squared_error(y_test, y_test_pred))\n",
    "new_lasso_rmse"
   ]
  },
  {
   "cell_type": "markdown",
   "metadata": {},
   "source": [
    "O algoritmo vencedor foi o Linear Regression da seção **5.2.1 Base Original** com o menor RMSE dentre todos.\n",
    "\n",
    "Prosseguindo com a análise do modelo."
   ]
  },
  {
   "cell_type": "markdown",
   "metadata": {},
   "source": [
    "## 6. Interpretação\n",
    "### 6.1 Análise dos Coeficientes"
   ]
  },
  {
   "cell_type": "code",
   "execution_count": 58,
   "metadata": {
    "ExecuteTime": {
     "end_time": "2020-10-23T17:19:34.545543Z",
     "start_time": "2020-10-23T17:19:34.320542Z"
    }
   },
   "outputs": [
    {
     "data": {
      "image/png": "[encoded data removed]",
      "text/plain": [
       "<Figure size 432x288 with 1 Axes>"
      ]
     },
     "metadata": {
      "needs_background": "light"
     },
     "output_type": "display_data"
    }
   ],
   "source": [
    "ridge_coefs = pd.Series(ridge.coef_, index = X_train.columns)\n",
    "\n",
    "\n",
    "imp_ridge_coefs = pd.concat([ridge_coefs.sort_values().head(10),\n",
    "                     ridge_coefs.sort_values().tail(10)])\n",
    "\n",
    "imp_ridge_coefs.plot(kind = \"barh\")\n",
    "plt.title(\"Coeficientes Ridge\")\n",
    "plt.show()"
   ]
  },
  {
   "cell_type": "code",
   "execution_count": 59,
   "metadata": {
    "ExecuteTime": {
     "end_time": "2020-10-23T17:19:34.559543Z",
     "start_time": "2020-10-23T17:19:34.549542Z"
    },
    "scrolled": false
   },
   "outputs": [
    {
     "data": {
      "text/plain": [
       "nao_trabalha_V1            0.131556\n",
       "visita_casual              0.125224\n",
       "amigos                     0.081048\n",
       "trabalho                   0.080597\n",
       "particular_V2              0.075595\n",
       "divorciado_V1              0.043420\n",
       "casado_V1                  0.042008\n",
       "publico_V1                 0.040217\n",
       "visita_frequente           0.039094\n",
       "particular_V1              0.020411\n",
       "menor_18_V2                0.018602\n",
       "obsidade_III_V2            0.017436\n",
       "18_24_anos_V2              0.015826\n",
       "obesidade_II_V2            0.013389\n",
       "25_34_anos_V2              0.013258\n",
       "35_44_anos_V2              0.010964\n",
       "obesidade_I_V2             0.009650\n",
       "45_54_anos_V2              0.008139\n",
       "55_64_anos_V2              0.005235\n",
       "acima_V2                   0.004736\n",
       "45_54_anos_V1              0.002965\n",
       "18_24_anos_V1              0.002662\n",
       "menor_18_V1                0.002355\n",
       "25_34_anos_V1              0.001855\n",
       "obsidade_III_V1            0.001722\n",
       "55_64_anos_V1              0.001580\n",
       "filhos_V1                  0.001134\n",
       "sem_filhos_V1              0.000867\n",
       "35_44_anos_V1              0.000728\n",
       "acima_V1                   0.000553\n",
       "nao_pratica_esportes_V2    0.000511\n",
       "sem_filhos_V2              0.000334\n",
       "abaixo_V1                  0.000317\n",
       "solteiro_V2                0.000056\n",
       "viuvo_V2                   0.000033\n",
       "filhos_V2                 -0.000013\n",
       "nao_trabalha_V2           -0.000028\n",
       "nao_estuda_V2             -0.000265\n",
       "obesidade_II_V1           -0.000318\n",
       "muito_abaixo_V1           -0.000369\n",
       "casado_V2                 -0.001055\n",
       "divorciado_V2             -0.001177\n",
       "obesidade_I_V1            -0.002378\n",
       "abaixo_V2                 -0.002575\n",
       "muito_abaixo_V2           -0.005575\n",
       "nao_estuda_V1             -0.021499\n",
       "solteiro_V1               -0.023154\n",
       "publico_V2                -0.029146\n",
       "mora_junto                -0.063306\n",
       "viuvo_V1                  -0.092891\n",
       "nao_pratica_esportes_V1   -0.113115\n",
       "dtype: float64"
      ]
     },
     "execution_count": 59,
     "metadata": {},
     "output_type": "execute_result"
    }
   ],
   "source": [
    "ridge_coefs.sort_values(ascending=False)"
   ]
  },
  {
   "cell_type": "code",
   "execution_count": 60,
   "metadata": {
    "ExecuteTime": {
     "end_time": "2020-10-23T17:19:34.646569Z",
     "start_time": "2020-10-23T17:19:34.561543Z"
    }
   },
   "outputs": [
    {
     "data": {
      "text/plain": [
       "0.32815969976640735"
      ]
     },
     "execution_count": 60,
     "metadata": {},
     "output_type": "execute_result"
    }
   ],
   "source": [
    "ridge.intercept_"
   ]
  },
  {
   "cell_type": "markdown",
   "metadata": {},
   "source": [
    "**Interpretação:** \n",
    "\n",
    "O coeficiente do modelo é de 0.328. Ou seja, o valor esperado da transmissão de um indivíduo V1 qualquer para V2 é de 32.8% naturalmente (geralmente, dizemos que 32.8% é o valor esperado quando todos os outros preditores são igual a zero, mas nesse caso é impossível ter um IMC nulo por exemplo. Por conta disso, a constante não pode ser interpretada nesse problema utilizando essa linha de raciocínio).\n",
    "\n",
    "\n",
    "\n",
    "Podemos ver também pelos coeficientes da equação que:\n",
    "\n",
    "- O maior efeito de contaminação se dá quando V1 não trabalha. Ele tem um incremento de em média, 13,2% na probabilidade de transmissão para V2.\n",
    "\n",
    "- O segundo efeito mais forte vai de encontro com a análise gráfica realizada anteriormente: Conexões por visitas casuais. Aqui, indivíduos conectados dessa forma tem uma probabilidade de contagio aumentada em média, 12,5%.\n",
    "\n",
    "- Na contramão, o efeito que mais tem peso negativo na taxa de contágio é quando V1 não pratica esporte, com 11,3% em média. V2 tem uma chance quase desprezível de aumentar a chance de ser contaminado por V1 quando não pratica o mesmo.\n",
    "\n",
    "- O terceiro efeito contrário, o qual diminui a probabilidade de contágio, é quando V1 mora junto a V2 (o que foi observado também na análise gráfica). Em média, V1 tende a ter uma redução na transmissão do virus de 6.3%.\n",
    "\n",
    "- Também vemos mais uma constatação da análise gráfica onde conexões feitas por amigos e trabalho tem efeitos praticamente idênticos com aproximadamente 8%.\n",
    "\n",
    "- Em relação a idade, verificamos que a idade de V2 é inversamente proporcional a taxa de contaminação. Ou seja, quanto mais jovem V2 for, mais propício ele se torna a adquirir o virus de V1. Isso contraria a hipótese de que o virus seria mais contagioso em idosos..\n",
    "\n",
    "- Em relação a hipótese do transporte público, vemos que: Quando V1 utiliza o coletivo, aumenta em média a taxa de contágio para V2 em 4%. Em contrapartida, V2 quando usa o transporte, evita o contágio em quase 3%. É interessante ver que quando V2 utiliza transporte particular, em média ele agrava a taxa em 7.6%, sendo o quinto maior fator. Portanto, quando V1 utiliza um coletivo e V2, seu veículo próprio, as chances aumentam bastante."
   ]
  },
  {
   "cell_type": "markdown",
   "metadata": {},
   "source": [
    "### 6.2 Próximos Passos"
   ]
  },
  {
   "cell_type": "markdown",
   "metadata": {},
   "source": [
    "Como funcionário da ONU, identifico diversos fatores que influenciam na taxa de contágio do vírus. Esses fatores levantam hipóteses e precisam ser validadas através de experimentos para retenção dessa taxa. Podemos agir seguindo alguns pontos:\n",
    "\n",
    "- Investigar o comportamento de pessoas que não trabalham. Hipóteses levantadas podem ser sobre indivíduos que passam mais tempo fora de casa, panfletam currículos em varios locais diversos, aumentando suas chances de contrair o virus.\n",
    "\n",
    "- Instigar o isolamento social para evitar o contágio e requerer medidas de distânciamento.\n",
    "\n",
    "- Conscientizar a higiênização constante dos veículos de transporte, visto que a combinação destes podem agravar quem transmite e quem contrai.\n",
    "\n",
    "- Conscientizar os jovens que é uma doença que tem mais risco a esse vírus."
   ]
  },
  {
   "cell_type": "markdown",
   "metadata": {},
   "source": [
    "### 7. Prevendo na Parcela Final da População."
   ]
  },
  {
   "cell_type": "code",
   "execution_count": 61,
   "metadata": {
    "ExecuteTime": {
     "end_time": "2020-10-23T17:19:34.742259Z",
     "start_time": "2020-10-23T17:19:34.647569Z"
    }
   },
   "outputs": [],
   "source": [
    "case_data = connections[connections['prob_V1_V2'].isnull()]"
   ]
  },
  {
   "cell_type": "code",
   "execution_count": 62,
   "metadata": {
    "ExecuteTime": {
     "end_time": "2020-10-23T17:19:35.748015Z",
     "start_time": "2020-10-23T17:19:34.744078Z"
    }
   },
   "outputs": [],
   "source": [
    "case_data = case_data.merge(ind_V1, on='V1', how='left')\n",
    "case_data = case_data.merge(ind_V2, on='V2', how='left')"
   ]
  },
  {
   "cell_type": "markdown",
   "metadata": {},
   "source": [
    "Criando index para case_data. Como V2 é único dentro da base, este será nosso index."
   ]
  },
  {
   "cell_type": "code",
   "execution_count": 63,
   "metadata": {
    "ExecuteTime": {
     "end_time": "2020-10-23T17:19:35.788999Z",
     "start_time": "2020-10-23T17:19:35.749983Z"
    }
   },
   "outputs": [],
   "source": [
    "case_data['V2'].nunique() == case_data.shape[0]\n",
    "case_data.set_index('V2', inplace=True)"
   ]
  },
  {
   "cell_type": "code",
   "execution_count": 64,
   "metadata": {
    "ExecuteTime": {
     "end_time": "2020-10-23T17:19:39.582999Z",
     "start_time": "2020-10-23T17:19:35.790986Z"
    }
   },
   "outputs": [],
   "source": [
    "to_dummy = case_data.select_dtypes(include='object')\n",
    "case_data = utils.one_hot_encoder(case_data, to_dummy)"
   ]
  },
  {
   "cell_type": "code",
   "execution_count": 65,
   "metadata": {
    "ExecuteTime": {
     "end_time": "2020-10-23T17:19:39.635993Z",
     "start_time": "2020-10-23T17:19:39.584997Z"
    }
   },
   "outputs": [],
   "source": [
    "to_drop_case_data = ['V1', 'prob_V1_V2', 'taxi_V1', 'taxi_V2',\n",
    "            'familia', 'visita_rara', \n",
    "            'sem_info_filhos_V1','sem_info_filhos_V2',\n",
    "            'sem_info_estado_civil_V1', 'sem_info_estado_civil_V2',\n",
    "              'sem_info_estuda_V1', 'sem_info_estuda_V2',\n",
    "              'sem_info_trabalha_V1', 'sem_info_trabalha_V2',\n",
    "              'sem_info_pratica_esportes_V1', 'sem_info_pratica_esportes_V2',\n",
    "              'sem_info_transporte_mais_utilizado_V1', 'sem_info_transporte_mais_utilizado_V2',\n",
    "              'sem_info_filhos_V1', 'sem_info_filhos_V2', \n",
    "              'adequado_V1', 'adequado_V2', 'maior_65_V1', 'maior_65_V2'\n",
    "             ]\n",
    "\n",
    "case_data.drop(to_drop_case_data, axis=1, inplace=True)"
   ]
  },
  {
   "cell_type": "markdown",
   "metadata": {},
   "source": [
    "Aplicando Ridge para estimação da taxa de contaminação para o restante da população."
   ]
  },
  {
   "cell_type": "code",
   "execution_count": 66,
   "metadata": {
    "ExecuteTime": {
     "end_time": "2020-10-23T17:19:41.297863Z",
     "start_time": "2020-10-23T17:19:39.637995Z"
    }
   },
   "outputs": [],
   "source": [
    "final_predicted = ridge.predict(case_data) # Aplicando o modelo.\n",
    "final_predicted = pd.DataFrame(pd.Series(final_predicted, index = case_data.index)).rename(columns={0: 'prob_V1_V2'}) # Montando Dataframe\n",
    "final_predicted.to_csv('final_predicted.csv', header=False, sep=';')"
   ]
  }
 ],
 "metadata": {
  "kernelspec": {
   "display_name": "Python 3",
   "language": "python",
   "name": "python3"
  },
  "language_info": {
   "codemirror_mode": {
    "name": "ipython",
    "version": 3
   },
   "file_extension": ".py",
   "mimetype": "text/x-python",
   "name": "python",
   "nbconvert_exporter": "python",
   "pygments_lexer": "ipython3",
   "version": "3.7.7"
  }
 },
 "nbformat": 4,
 "nbformat_minor": 4
}
